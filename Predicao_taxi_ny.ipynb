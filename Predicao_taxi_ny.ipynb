{
  "cells": [
    {
      "cell_type": "markdown",
      "metadata": {
        "id": "view-in-github",
        "colab_type": "text"
      },
      "source": [
        "<a href=\"https://colab.research.google.com/github/gabryelsguedes/Taxi-NY/blob/main/Predicao_taxi_ny.ipynb\" target=\"_parent\"><img src=\"https://colab.research.google.com/assets/colab-badge.svg\" alt=\"Open In Colab\"/></a>"
      ]
    },
    {
      "cell_type": "markdown",
      "source": [
        "###Previsão de tarifa de táxi de Nova Iorque\n",
        "A base de dados foi extraída desta competição do Kaggle: https://www.kaggle.com/c/new-york-city-taxi-fare-prediction/overview.\n",
        "\n",
        "In this playground competition, hosted in partnership with Google Cloud and Coursera, you are tasked with predicting the fare amount (inclusive of tolls) for a taxi ride in New York City given the pickup and dropoff locations. While you can get a basic estimate based on just the distance between the two points, this will result in an RMSE of $5-$8, depending on the model used (see the starter code for an example of this approach in Kernels). Your challenge is to do better than this using Machine Learning techniques!\n",
        "\n",
        "To learn how to handle large datasets with ease and solve this problem using TensorFlow, consider taking the Machine Learning with TensorFlow on Google Cloud Platform specialization on Coursera -- the taxi fare problem is one of several real-world problems that are used as case studies in the series of courses. To make this easier, head to Coursera.org/NEXTextended to claim this specialization for free for the first month!"
      ],
      "metadata": {
        "id": "skkPMvMTom7o"
      }
    },
    {
      "cell_type": "code",
      "execution_count": null,
      "metadata": {
        "id": "tj5-XIYQeICI"
      },
      "outputs": [],
      "source": [
        "import pandas as pd \n",
        "import numpy as np \n",
        "import matplotlib.pyplot as plt \n",
        "import random \n",
        "import zipfile\n",
        "from datetime import datetime"
      ]
    },
    {
      "cell_type": "markdown",
      "metadata": {
        "id": "Pm_GHXpiiyi1"
      },
      "source": [
        "###Extração de uma amostra da base de dados\n",
        "\n",
        "Extração de uma parte dos dados para diminuir o tempo de processamento dos modelos."
      ]
    },
    {
      "cell_type": "code",
      "execution_count": null,
      "metadata": {
        "id": "TRJfrXKYeMKj"
      },
      "outputs": [],
      "source": [
        "dataset_path = '/content/drive/MyDrive/Colab Notebooks/Dados - Taxi NY/train.csv.zip'\n",
        "zip_object = zipfile.ZipFile(file=dataset_path, mode='r')\n",
        "zip_object.extractall('./')\n",
        "zip_object.close()\n",
        "\n",
        "number_rows = sum(1 for line in open('train.csv'))\n",
        "number_rows\n",
        "\n",
        "sample_size = 50000\n",
        "#sempre ter a mesma divisao da base de dados\n",
        "random.seed(24) \n",
        "#linhas que serão excluidas da base de dados, range a partir da linha 1 para deixar o nome das colunas\n",
        "skip_rows = sorted(random.sample(range(1,number_rows+1),number_rows-sample_size)) \n",
        "#skiprows linhas que serão exluidas\n",
        "train = pd.read_csv('train.csv', skiprows=skip_rows)  \n",
        "#Gerando uma amostra do arquivo de menor tamanho para treinar e baixar\n",
        "train.to_csv('train_sample '+ str(sample_size) + '.csv', index=False)  "
      ]
    },
    {
      "cell_type": "code",
      "execution_count": null,
      "metadata": {
        "id": "vaAinlJGgxuc"
      },
      "outputs": [],
      "source": [
        "dataset = pd.read_csv('/content/train_sample 50000.csv',\n",
        "                    parse_dates=['key','pickup_datetime'],\n",
        "                    dtype = {'fare_amount': np.float32,'pickup_latitude':np.float32,\n",
        "                             'pickup_longitude':np.float32,'dropoff_latitude':np.float32,\n",
        "                             'dropoff_longitude':np.float32,'passenger_count':np.int32})"
      ]
    },
    {
      "cell_type": "code",
      "execution_count": null,
      "metadata": {
        "colab": {
          "base_uri": "https://localhost:8080/"
        },
        "id": "1XmVl8b1mtsh",
        "outputId": "1cebee3f-ea8e-4e41-b611-53a9a8949fff"
      },
      "outputs": [
        {
          "output_type": "execute_result",
          "data": {
            "text/plain": [
              "key                       datetime64[ns]\n",
              "fare_amount                      float32\n",
              "pickup_datetime      datetime64[ns, UTC]\n",
              "pickup_longitude                 float32\n",
              "pickup_latitude                  float32\n",
              "dropoff_longitude                float32\n",
              "dropoff_latitude                 float32\n",
              "passenger_count                    int32\n",
              "dtype: object"
            ]
          },
          "metadata": {},
          "execution_count": 3
        }
      ],
      "source": [
        "dataset.dtypes"
      ]
    },
    {
      "cell_type": "code",
      "execution_count": null,
      "metadata": {
        "colab": {
          "base_uri": "https://localhost:8080/",
          "height": 206
        },
        "id": "nLK0sSq3nd4L",
        "outputId": "aa1e0405-fd58-435e-966c-04405ba9a6d5"
      },
      "outputs": [
        {
          "output_type": "execute_result",
          "data": {
            "text/plain": [
              "                            key  fare_amount           pickup_datetime  \\\n",
              "0 2011-06-21 16:15:00.000000730          7.3 2011-06-21 16:15:00+00:00   \n",
              "1 2012-04-14 14:45:00.000000310          5.7 2012-04-14 14:45:00+00:00   \n",
              "2 2011-10-26 16:56:14.000000300         13.3 2011-10-26 16:56:14+00:00   \n",
              "3 2012-03-08 22:58:00.000000134         16.5 2012-03-08 22:58:00+00:00   \n",
              "4 2012-09-06 21:56:13.000000100         21.0 2012-09-06 21:56:13+00:00   \n",
              "\n",
              "   pickup_longitude  pickup_latitude  dropoff_longitude  dropoff_latitude  \\\n",
              "0        -73.991875        40.754436         -73.977226         40.774323   \n",
              "1        -73.984322        40.768509         -73.988472         40.755569   \n",
              "2        -74.001305        40.724426         -73.971802         40.761963   \n",
              "3        -74.008240        40.720638         -73.951424         40.730354   \n",
              "4        -74.005928        40.709415         -73.996780         40.736568   \n",
              "\n",
              "   passenger_count  \n",
              "0                3  \n",
              "1                1  \n",
              "2                1  \n",
              "3                2  \n",
              "4                2  "
            ],
            "text/html": [
              "\n",
              "  <div id=\"df-129a58b9-2ed3-4902-9fe9-f8d46a4ada06\">\n",
              "    <div class=\"colab-df-container\">\n",
              "      <div>\n",
              "<style scoped>\n",
              "    .dataframe tbody tr th:only-of-type {\n",
              "        vertical-align: middle;\n",
              "    }\n",
              "\n",
              "    .dataframe tbody tr th {\n",
              "        vertical-align: top;\n",
              "    }\n",
              "\n",
              "    .dataframe thead th {\n",
              "        text-align: right;\n",
              "    }\n",
              "</style>\n",
              "<table border=\"1\" class=\"dataframe\">\n",
              "  <thead>\n",
              "    <tr style=\"text-align: right;\">\n",
              "      <th></th>\n",
              "      <th>key</th>\n",
              "      <th>fare_amount</th>\n",
              "      <th>pickup_datetime</th>\n",
              "      <th>pickup_longitude</th>\n",
              "      <th>pickup_latitude</th>\n",
              "      <th>dropoff_longitude</th>\n",
              "      <th>dropoff_latitude</th>\n",
              "      <th>passenger_count</th>\n",
              "    </tr>\n",
              "  </thead>\n",
              "  <tbody>\n",
              "    <tr>\n",
              "      <th>0</th>\n",
              "      <td>2011-06-21 16:15:00.000000730</td>\n",
              "      <td>7.3</td>\n",
              "      <td>2011-06-21 16:15:00+00:00</td>\n",
              "      <td>-73.991875</td>\n",
              "      <td>40.754436</td>\n",
              "      <td>-73.977226</td>\n",
              "      <td>40.774323</td>\n",
              "      <td>3</td>\n",
              "    </tr>\n",
              "    <tr>\n",
              "      <th>1</th>\n",
              "      <td>2012-04-14 14:45:00.000000310</td>\n",
              "      <td>5.7</td>\n",
              "      <td>2012-04-14 14:45:00+00:00</td>\n",
              "      <td>-73.984322</td>\n",
              "      <td>40.768509</td>\n",
              "      <td>-73.988472</td>\n",
              "      <td>40.755569</td>\n",
              "      <td>1</td>\n",
              "    </tr>\n",
              "    <tr>\n",
              "      <th>2</th>\n",
              "      <td>2011-10-26 16:56:14.000000300</td>\n",
              "      <td>13.3</td>\n",
              "      <td>2011-10-26 16:56:14+00:00</td>\n",
              "      <td>-74.001305</td>\n",
              "      <td>40.724426</td>\n",
              "      <td>-73.971802</td>\n",
              "      <td>40.761963</td>\n",
              "      <td>1</td>\n",
              "    </tr>\n",
              "    <tr>\n",
              "      <th>3</th>\n",
              "      <td>2012-03-08 22:58:00.000000134</td>\n",
              "      <td>16.5</td>\n",
              "      <td>2012-03-08 22:58:00+00:00</td>\n",
              "      <td>-74.008240</td>\n",
              "      <td>40.720638</td>\n",
              "      <td>-73.951424</td>\n",
              "      <td>40.730354</td>\n",
              "      <td>2</td>\n",
              "    </tr>\n",
              "    <tr>\n",
              "      <th>4</th>\n",
              "      <td>2012-09-06 21:56:13.000000100</td>\n",
              "      <td>21.0</td>\n",
              "      <td>2012-09-06 21:56:13+00:00</td>\n",
              "      <td>-74.005928</td>\n",
              "      <td>40.709415</td>\n",
              "      <td>-73.996780</td>\n",
              "      <td>40.736568</td>\n",
              "      <td>2</td>\n",
              "    </tr>\n",
              "  </tbody>\n",
              "</table>\n",
              "</div>\n",
              "      <button class=\"colab-df-convert\" onclick=\"convertToInteractive('df-129a58b9-2ed3-4902-9fe9-f8d46a4ada06')\"\n",
              "              title=\"Convert this dataframe to an interactive table.\"\n",
              "              style=\"display:none;\">\n",
              "        \n",
              "  <svg xmlns=\"http://www.w3.org/2000/svg\" height=\"24px\"viewBox=\"0 0 24 24\"\n",
              "       width=\"24px\">\n",
              "    <path d=\"M0 0h24v24H0V0z\" fill=\"none\"/>\n",
              "    <path d=\"M18.56 5.44l.94 2.06.94-2.06 2.06-.94-2.06-.94-.94-2.06-.94 2.06-2.06.94zm-11 1L8.5 8.5l.94-2.06 2.06-.94-2.06-.94L8.5 2.5l-.94 2.06-2.06.94zm10 10l.94 2.06.94-2.06 2.06-.94-2.06-.94-.94-2.06-.94 2.06-2.06.94z\"/><path d=\"M17.41 7.96l-1.37-1.37c-.4-.4-.92-.59-1.43-.59-.52 0-1.04.2-1.43.59L10.3 9.45l-7.72 7.72c-.78.78-.78 2.05 0 2.83L4 21.41c.39.39.9.59 1.41.59.51 0 1.02-.2 1.41-.59l7.78-7.78 2.81-2.81c.8-.78.8-2.07 0-2.86zM5.41 20L4 18.59l7.72-7.72 1.47 1.35L5.41 20z\"/>\n",
              "  </svg>\n",
              "      </button>\n",
              "      \n",
              "  <style>\n",
              "    .colab-df-container {\n",
              "      display:flex;\n",
              "      flex-wrap:wrap;\n",
              "      gap: 12px;\n",
              "    }\n",
              "\n",
              "    .colab-df-convert {\n",
              "      background-color: #E8F0FE;\n",
              "      border: none;\n",
              "      border-radius: 50%;\n",
              "      cursor: pointer;\n",
              "      display: none;\n",
              "      fill: #1967D2;\n",
              "      height: 32px;\n",
              "      padding: 0 0 0 0;\n",
              "      width: 32px;\n",
              "    }\n",
              "\n",
              "    .colab-df-convert:hover {\n",
              "      background-color: #E2EBFA;\n",
              "      box-shadow: 0px 1px 2px rgba(60, 64, 67, 0.3), 0px 1px 3px 1px rgba(60, 64, 67, 0.15);\n",
              "      fill: #174EA6;\n",
              "    }\n",
              "\n",
              "    [theme=dark] .colab-df-convert {\n",
              "      background-color: #3B4455;\n",
              "      fill: #D2E3FC;\n",
              "    }\n",
              "\n",
              "    [theme=dark] .colab-df-convert:hover {\n",
              "      background-color: #434B5C;\n",
              "      box-shadow: 0px 1px 3px 1px rgba(0, 0, 0, 0.15);\n",
              "      filter: drop-shadow(0px 1px 2px rgba(0, 0, 0, 0.3));\n",
              "      fill: #FFFFFF;\n",
              "    }\n",
              "  </style>\n",
              "\n",
              "      <script>\n",
              "        const buttonEl =\n",
              "          document.querySelector('#df-129a58b9-2ed3-4902-9fe9-f8d46a4ada06 button.colab-df-convert');\n",
              "        buttonEl.style.display =\n",
              "          google.colab.kernel.accessAllowed ? 'block' : 'none';\n",
              "\n",
              "        async function convertToInteractive(key) {\n",
              "          const element = document.querySelector('#df-129a58b9-2ed3-4902-9fe9-f8d46a4ada06');\n",
              "          const dataTable =\n",
              "            await google.colab.kernel.invokeFunction('convertToInteractive',\n",
              "                                                     [key], {});\n",
              "          if (!dataTable) return;\n",
              "\n",
              "          const docLinkHtml = 'Like what you see? Visit the ' +\n",
              "            '<a target=\"_blank\" href=https://colab.research.google.com/notebooks/data_table.ipynb>data table notebook</a>'\n",
              "            + ' to learn more about interactive tables.';\n",
              "          element.innerHTML = '';\n",
              "          dataTable['output_type'] = 'display_data';\n",
              "          await google.colab.output.renderOutput(dataTable, element);\n",
              "          const docLink = document.createElement('div');\n",
              "          docLink.innerHTML = docLinkHtml;\n",
              "          element.appendChild(docLink);\n",
              "        }\n",
              "      </script>\n",
              "    </div>\n",
              "  </div>\n",
              "  "
            ]
          },
          "metadata": {},
          "execution_count": 4
        }
      ],
      "source": [
        "dataset.head()"
      ]
    },
    {
      "cell_type": "code",
      "execution_count": null,
      "metadata": {
        "colab": {
          "base_uri": "https://localhost:8080/"
        },
        "id": "l-oTZYmfnsKr",
        "outputId": "82e7265e-e012-4aa0-f3e8-a6acbd5ddd00"
      },
      "outputs": [
        {
          "output_type": "execute_result",
          "data": {
            "text/plain": [
              "key                  0\n",
              "fare_amount          0\n",
              "pickup_datetime      0\n",
              "pickup_longitude     0\n",
              "pickup_latitude      0\n",
              "dropoff_longitude    0\n",
              "dropoff_latitude     0\n",
              "passenger_count      0\n",
              "dtype: int64"
            ]
          },
          "metadata": {},
          "execution_count": 5
        }
      ],
      "source": [
        "dataset.isna().sum()"
      ]
    },
    {
      "cell_type": "markdown",
      "metadata": {
        "id": "z8j8l4Z9oYeV"
      },
      "source": [
        "###Analise das colunas key e pickup datetime\n",
        "\n",
        "Analisar se será necessário usar as duas colunas ou se ambas são iguais."
      ]
    },
    {
      "cell_type": "code",
      "execution_count": null,
      "metadata": {
        "colab": {
          "base_uri": "https://localhost:8080/"
        },
        "id": "MKON-xaqnwpx",
        "outputId": "f2cef09c-25f3-461e-add2-79bf01e16f5c"
      },
      "outputs": [
        {
          "output_type": "execute_result",
          "data": {
            "text/plain": [
              "True    50000\n",
              "dtype: int64"
            ]
          },
          "metadata": {},
          "execution_count": 6
        }
      ],
      "source": [
        "key = dataset['key']\n",
        "key = pd.to_datetime(key.dt.strftime('%Y-%m-%d %H:%M:%S'))\n",
        "\n",
        "pdt = dataset['pickup_datetime']\n",
        "pdt = pdt.map(lambda date: date.tz_localize(None))\n",
        "\n",
        "(key == pdt).value_counts()"
      ]
    },
    {
      "cell_type": "markdown",
      "metadata": {
        "id": "PFJrbSIesKbr"
      },
      "source": [
        "Após a transformação das duas colunas foi possível observar que ambas tem os mesmos valores, então será desconsiderada a coluna key para a análise dos modelos."
      ]
    },
    {
      "cell_type": "code",
      "execution_count": null,
      "metadata": {
        "colab": {
          "base_uri": "https://localhost:8080/",
          "height": 206
        },
        "id": "4CSfcrYforG0",
        "outputId": "d8429e3b-c95e-446d-b1fa-2687f0d4380d"
      },
      "outputs": [
        {
          "output_type": "execute_result",
          "data": {
            "text/plain": [
              "   fare_amount     pickup_datetime  pickup_longitude  pickup_latitude  \\\n",
              "0          7.3 2011-06-21 16:15:00        -73.991875        40.754436   \n",
              "1          5.7 2012-04-14 14:45:00        -73.984322        40.768509   \n",
              "2         13.3 2011-10-26 16:56:14        -74.001305        40.724426   \n",
              "3         16.5 2012-03-08 22:58:00        -74.008240        40.720638   \n",
              "4         21.0 2012-09-06 21:56:13        -74.005928        40.709415   \n",
              "\n",
              "   dropoff_longitude  dropoff_latitude  passenger_count  \n",
              "0         -73.977226         40.774323                3  \n",
              "1         -73.988472         40.755569                1  \n",
              "2         -73.971802         40.761963                1  \n",
              "3         -73.951424         40.730354                2  \n",
              "4         -73.996780         40.736568                2  "
            ],
            "text/html": [
              "\n",
              "  <div id=\"df-427b8140-7233-4d3b-9e9c-ba84899f7873\">\n",
              "    <div class=\"colab-df-container\">\n",
              "      <div>\n",
              "<style scoped>\n",
              "    .dataframe tbody tr th:only-of-type {\n",
              "        vertical-align: middle;\n",
              "    }\n",
              "\n",
              "    .dataframe tbody tr th {\n",
              "        vertical-align: top;\n",
              "    }\n",
              "\n",
              "    .dataframe thead th {\n",
              "        text-align: right;\n",
              "    }\n",
              "</style>\n",
              "<table border=\"1\" class=\"dataframe\">\n",
              "  <thead>\n",
              "    <tr style=\"text-align: right;\">\n",
              "      <th></th>\n",
              "      <th>fare_amount</th>\n",
              "      <th>pickup_datetime</th>\n",
              "      <th>pickup_longitude</th>\n",
              "      <th>pickup_latitude</th>\n",
              "      <th>dropoff_longitude</th>\n",
              "      <th>dropoff_latitude</th>\n",
              "      <th>passenger_count</th>\n",
              "    </tr>\n",
              "  </thead>\n",
              "  <tbody>\n",
              "    <tr>\n",
              "      <th>0</th>\n",
              "      <td>7.3</td>\n",
              "      <td>2011-06-21 16:15:00</td>\n",
              "      <td>-73.991875</td>\n",
              "      <td>40.754436</td>\n",
              "      <td>-73.977226</td>\n",
              "      <td>40.774323</td>\n",
              "      <td>3</td>\n",
              "    </tr>\n",
              "    <tr>\n",
              "      <th>1</th>\n",
              "      <td>5.7</td>\n",
              "      <td>2012-04-14 14:45:00</td>\n",
              "      <td>-73.984322</td>\n",
              "      <td>40.768509</td>\n",
              "      <td>-73.988472</td>\n",
              "      <td>40.755569</td>\n",
              "      <td>1</td>\n",
              "    </tr>\n",
              "    <tr>\n",
              "      <th>2</th>\n",
              "      <td>13.3</td>\n",
              "      <td>2011-10-26 16:56:14</td>\n",
              "      <td>-74.001305</td>\n",
              "      <td>40.724426</td>\n",
              "      <td>-73.971802</td>\n",
              "      <td>40.761963</td>\n",
              "      <td>1</td>\n",
              "    </tr>\n",
              "    <tr>\n",
              "      <th>3</th>\n",
              "      <td>16.5</td>\n",
              "      <td>2012-03-08 22:58:00</td>\n",
              "      <td>-74.008240</td>\n",
              "      <td>40.720638</td>\n",
              "      <td>-73.951424</td>\n",
              "      <td>40.730354</td>\n",
              "      <td>2</td>\n",
              "    </tr>\n",
              "    <tr>\n",
              "      <th>4</th>\n",
              "      <td>21.0</td>\n",
              "      <td>2012-09-06 21:56:13</td>\n",
              "      <td>-74.005928</td>\n",
              "      <td>40.709415</td>\n",
              "      <td>-73.996780</td>\n",
              "      <td>40.736568</td>\n",
              "      <td>2</td>\n",
              "    </tr>\n",
              "  </tbody>\n",
              "</table>\n",
              "</div>\n",
              "      <button class=\"colab-df-convert\" onclick=\"convertToInteractive('df-427b8140-7233-4d3b-9e9c-ba84899f7873')\"\n",
              "              title=\"Convert this dataframe to an interactive table.\"\n",
              "              style=\"display:none;\">\n",
              "        \n",
              "  <svg xmlns=\"http://www.w3.org/2000/svg\" height=\"24px\"viewBox=\"0 0 24 24\"\n",
              "       width=\"24px\">\n",
              "    <path d=\"M0 0h24v24H0V0z\" fill=\"none\"/>\n",
              "    <path d=\"M18.56 5.44l.94 2.06.94-2.06 2.06-.94-2.06-.94-.94-2.06-.94 2.06-2.06.94zm-11 1L8.5 8.5l.94-2.06 2.06-.94-2.06-.94L8.5 2.5l-.94 2.06-2.06.94zm10 10l.94 2.06.94-2.06 2.06-.94-2.06-.94-.94-2.06-.94 2.06-2.06.94z\"/><path d=\"M17.41 7.96l-1.37-1.37c-.4-.4-.92-.59-1.43-.59-.52 0-1.04.2-1.43.59L10.3 9.45l-7.72 7.72c-.78.78-.78 2.05 0 2.83L4 21.41c.39.39.9.59 1.41.59.51 0 1.02-.2 1.41-.59l7.78-7.78 2.81-2.81c.8-.78.8-2.07 0-2.86zM5.41 20L4 18.59l7.72-7.72 1.47 1.35L5.41 20z\"/>\n",
              "  </svg>\n",
              "      </button>\n",
              "      \n",
              "  <style>\n",
              "    .colab-df-container {\n",
              "      display:flex;\n",
              "      flex-wrap:wrap;\n",
              "      gap: 12px;\n",
              "    }\n",
              "\n",
              "    .colab-df-convert {\n",
              "      background-color: #E8F0FE;\n",
              "      border: none;\n",
              "      border-radius: 50%;\n",
              "      cursor: pointer;\n",
              "      display: none;\n",
              "      fill: #1967D2;\n",
              "      height: 32px;\n",
              "      padding: 0 0 0 0;\n",
              "      width: 32px;\n",
              "    }\n",
              "\n",
              "    .colab-df-convert:hover {\n",
              "      background-color: #E2EBFA;\n",
              "      box-shadow: 0px 1px 2px rgba(60, 64, 67, 0.3), 0px 1px 3px 1px rgba(60, 64, 67, 0.15);\n",
              "      fill: #174EA6;\n",
              "    }\n",
              "\n",
              "    [theme=dark] .colab-df-convert {\n",
              "      background-color: #3B4455;\n",
              "      fill: #D2E3FC;\n",
              "    }\n",
              "\n",
              "    [theme=dark] .colab-df-convert:hover {\n",
              "      background-color: #434B5C;\n",
              "      box-shadow: 0px 1px 3px 1px rgba(0, 0, 0, 0.15);\n",
              "      filter: drop-shadow(0px 1px 2px rgba(0, 0, 0, 0.3));\n",
              "      fill: #FFFFFF;\n",
              "    }\n",
              "  </style>\n",
              "\n",
              "      <script>\n",
              "        const buttonEl =\n",
              "          document.querySelector('#df-427b8140-7233-4d3b-9e9c-ba84899f7873 button.colab-df-convert');\n",
              "        buttonEl.style.display =\n",
              "          google.colab.kernel.accessAllowed ? 'block' : 'none';\n",
              "\n",
              "        async function convertToInteractive(key) {\n",
              "          const element = document.querySelector('#df-427b8140-7233-4d3b-9e9c-ba84899f7873');\n",
              "          const dataTable =\n",
              "            await google.colab.kernel.invokeFunction('convertToInteractive',\n",
              "                                                     [key], {});\n",
              "          if (!dataTable) return;\n",
              "\n",
              "          const docLinkHtml = 'Like what you see? Visit the ' +\n",
              "            '<a target=\"_blank\" href=https://colab.research.google.com/notebooks/data_table.ipynb>data table notebook</a>'\n",
              "            + ' to learn more about interactive tables.';\n",
              "          element.innerHTML = '';\n",
              "          dataTable['output_type'] = 'display_data';\n",
              "          await google.colab.output.renderOutput(dataTable, element);\n",
              "          const docLink = document.createElement('div');\n",
              "          docLink.innerHTML = docLinkHtml;\n",
              "          element.appendChild(docLink);\n",
              "        }\n",
              "      </script>\n",
              "    </div>\n",
              "  </div>\n",
              "  "
            ]
          },
          "metadata": {},
          "execution_count": 7
        }
      ],
      "source": [
        "dataset.drop(['key'], axis=1, inplace=True)\n",
        "dataset['pickup_datetime'] = pdt\n",
        "dataset.head()"
      ]
    },
    {
      "cell_type": "markdown",
      "metadata": {
        "id": "XvoLvw4Qv9N8"
      },
      "source": [
        "###Verificação dos dados de cada coluna e eliminando discrepâncias\n",
        "\n",
        "Realização da análise dos dados de cada coluna para verificar as incosistências e manter dados para facilitar a generalização dos modelos.\n"
      ]
    },
    {
      "cell_type": "code",
      "execution_count": null,
      "metadata": {
        "id": "m2TiJ9_oor6X"
      },
      "outputs": [],
      "source": [
        "p_lon = dataset['pickup_longitude']\n",
        "p_lat = dataset['pickup_latitude']\n",
        "d_off_lon = dataset['dropoff_longitude']\n",
        "d_off_lat = dataset['dropoff_latitude']\n",
        "pass_c = dataset['passenger_count']\n",
        "f_amount = dataset['fare_amount']"
      ]
    },
    {
      "cell_type": "code",
      "execution_count": null,
      "metadata": {
        "colab": {
          "base_uri": "https://localhost:8080/",
          "height": 624
        },
        "id": "Hwjb1jRPpMfO",
        "outputId": "f4e588bf-78a6-4710-cd1a-1b5310112026"
      },
      "outputs": [
        {
          "output_type": "execute_result",
          "data": {
            "text/plain": [
              "Text(0.5, 1.0, 'Dropoff Latitude Amplified')"
            ]
          },
          "metadata": {},
          "execution_count": 9
        },
        {
          "output_type": "display_data",
          "data": {
            "text/plain": [
              "<Figure size 1440x720 with 8 Axes>"
            ],
            "image/png": "[encoded data removed]"
          },
          "metadata": {
            "needs_background": "light"
          }
        }
      ],
      "source": [
        "amp = 0.5\n",
        "fig,ax = plt.subplots(2,4,figsize=(20,10))\n",
        "ax[0,0].hist(p_lon,bins=100)\n",
        "ax[0,0].set_title('Pickup Longitude')\n",
        "ax[1,0].hist(p_lon[(p_lon<p_lon.median()+amp) & (p_lon>p_lon.median()-amp)], bins=100);\n",
        "ax[1,0].set_title('Pickup Longitude amplified')\n",
        "\n",
        "ax[0,1].hist(p_lat,bins=100)\n",
        "ax[0,1].set_title('Pickup Latitude')\n",
        "ax[1,1].hist(p_lat[(p_lat<p_lat.median()+amp) & (p_lat>p_lat.median()-amp)], bins=100);\n",
        "ax[1,1].set_title('Pickup Latitude amplified')\n",
        "\n",
        "ax[0,2].hist(d_off_lon,bins=100)\n",
        "ax[0,2].set_title('Dropoff Longitude')\n",
        "ax[1,2].hist(d_off_lon[(d_off_lon<d_off_lon.median()+amp) & (d_off_lon>d_off_lon.median()-amp)], bins=100);\n",
        "ax[1,2].set_title('Dropoff Longitude Amplified')\n",
        "\n",
        "ax[0,3].hist(d_off_lat,bins=100)\n",
        "ax[0,3].set_title('Dropoff Latitude')\n",
        "ax[1,3].hist(d_off_lat[(d_off_lat<d_off_lat.median()+amp) & (d_off_lat>d_off_lat.median()-amp)], bins=100);\n",
        "ax[1,3].set_title('Dropoff Latitude Amplified')\n"
      ]
    },
    {
      "cell_type": "markdown",
      "metadata": {
        "id": "4Y7wsFHiBXKi"
      },
      "source": [
        "Observando os gráficos pode se notar que a maior parte dos dados estão concentrados em pequenos ranges. Como a maior parte dos valores estão dentro desse intervalo, será criado um filtro para manter os dados apenas dentro desse intervalo e verificar a quantidade de dado será descartada com o uso desses filtros."
      ]
    },
    {
      "cell_type": "code",
      "execution_count": null,
      "metadata": {
        "colab": {
          "base_uri": "https://localhost:8080/",
          "height": 336
        },
        "id": "8xrIYGKMF6t1",
        "outputId": "d8016444-0b23-4115-b844-0a396cb3f898"
      },
      "outputs": [
        {
          "output_type": "display_data",
          "data": {
            "text/plain": [
              "<Figure size 1080x360 with 2 Axes>"
            ],
            "image/png": "[encoded data removed]"
          },
          "metadata": {
            "needs_background": "light"
          }
        }
      ],
      "source": [
        "fig,ax = plt.subplots(1,2,figsize=(15,5))\n",
        "ax[0].hist(pass_c,bins=100)\n",
        "ax[0].set_title('Passenger Count');\n",
        "ax[1].hist(pass_c[(pass_c<7) & (pass_c>=0)], bins=100);\n",
        "ax[1].set_title('Passenger Count amplified');"
      ]
    },
    {
      "cell_type": "markdown",
      "metadata": {
        "id": "QmxA0DifKSb9"
      },
      "source": [
        "No caso dos passageiros, serão considerados apenas os valores em que possua pelo menos um passageiro."
      ]
    },
    {
      "cell_type": "code",
      "execution_count": null,
      "metadata": {
        "colab": {
          "base_uri": "https://localhost:8080/",
          "height": 336
        },
        "id": "OO1tFrc7HoOW",
        "outputId": "fed1d37c-32a0-40c2-97ce-16d36f660b74"
      },
      "outputs": [
        {
          "output_type": "display_data",
          "data": {
            "text/plain": [
              "<Figure size 1080x360 with 2 Axes>"
            ],
            "image/png": "[encoded data removed]"
          },
          "metadata": {
            "needs_background": "light"
          }
        }
      ],
      "source": [
        "fig,ax = plt.subplots(1,2,figsize=(15,5))\n",
        "ax[0].hist(f_amount,bins=100)\n",
        "ax[0].set_title('Fare Amount');\n",
        "ax[1].hist(f_amount[(f_amount>=5) & (f_amount<=60)], bins=100);\n",
        "ax[1].set_title('Fare Amount Amplified');"
      ]
    },
    {
      "cell_type": "markdown",
      "metadata": {
        "id": "hwMs5hP3KafT"
      },
      "source": [
        "A fim de evitar outliers, serão considerados valores até 60 dolares."
      ]
    },
    {
      "cell_type": "markdown",
      "metadata": {
        "id": "Ie1ndWuZKjB9"
      },
      "source": [
        "###Criação de filtros para limpeza dos dados"
      ]
    },
    {
      "cell_type": "code",
      "execution_count": null,
      "metadata": {
        "colab": {
          "base_uri": "https://localhost:8080/"
        },
        "id": "vHgLhL3bpOJS",
        "outputId": "e6cf9b1b-1852-4528-d9b4-704d51083c99"
      },
      "outputs": [
        {
          "output_type": "stream",
          "name": "stdout",
          "text": [
            "True     48980\n",
            "False     1020\n",
            "Name: pickup_longitude, dtype: int64 \n",
            " True     0.9796\n",
            "False    0.0204\n",
            "Name: pickup_longitude, dtype: float64 \n",
            "\n",
            "True     48992\n",
            "False     1008\n",
            "Name: pickup_latitude, dtype: int64 \n",
            " True     0.97984\n",
            "False    0.02016\n",
            "Name: pickup_latitude, dtype: float64 \n",
            "\n",
            "True     48999\n",
            "False     1001\n",
            "Name: dropoff_longitude, dtype: int64 \n",
            " True     0.97998\n",
            "False    0.02002\n",
            "Name: dropoff_longitude, dtype: float64 \n",
            "\n",
            "True     48994\n",
            "False     1006\n",
            "Name: dropoff_latitude, dtype: int64 \n",
            " True     0.97988\n",
            "False    0.02012\n",
            "Name: dropoff_latitude, dtype: float64 \n",
            "\n",
            "True     49815\n",
            "False      185\n",
            "Name: passenger_count, dtype: int64 \n",
            " True     0.9963\n",
            "False    0.0037\n",
            "Name: passenger_count, dtype: float64 \n",
            "\n",
            "True     49862\n",
            "False      138\n",
            "Name: fare_amount, dtype: int64 \n",
            " True     0.99724\n",
            "False    0.00276\n",
            "Name: fare_amount, dtype: float64\n"
          ]
        }
      ],
      "source": [
        "p_lon_filter = ((p_lon<p_lon.median()+amp) & (p_lon>p_lon.median()-amp))\n",
        "print(p_lon_filter.value_counts(), '\\n', p_lon_filter.value_counts(normalize=True),'\\n')\n",
        "\n",
        "p_lat_filter = ((p_lat<p_lat.median()+amp) & (p_lat>p_lat.median()-amp))\n",
        "print(p_lat_filter.value_counts(), '\\n', p_lat_filter.value_counts(normalize=True),'\\n')\n",
        "\n",
        "doff_lon_filter = ((d_off_lon<d_off_lon.median()+amp) & (d_off_lon>d_off_lon.median()-amp))\n",
        "print(doff_lon_filter.value_counts(), '\\n', doff_lon_filter.value_counts(normalize=True),'\\n')\n",
        "\n",
        "doff_lat_filter = ((d_off_lat<d_off_lat.median()+amp) & (d_off_lat>d_off_lat.median()-amp))\n",
        "print(doff_lat_filter.value_counts(), '\\n', doff_lat_filter.value_counts(normalize=True),'\\n')\n",
        "\n",
        "pass_filter = ((pass_c<7) & (pass_c>0))\n",
        "print(pass_filter.value_counts(), '\\n', pass_filter.value_counts(normalize=True),'\\n')\n",
        "\n",
        "fare_filter = ((f_amount>=2.50) & (f_amount<=60))\n",
        "print(fare_filter.value_counts(), '\\n', fare_filter.value_counts(normalize=True))"
      ]
    },
    {
      "cell_type": "markdown",
      "metadata": {
        "id": "q45mPTvaOKOB"
      },
      "source": [
        "Como os valores dos filtros utilizados para verificar as coordenadas retiram apenas uma pequena quantidade dos dados, os valores fora dos intervalos dos filtros serão descartados."
      ]
    },
    {
      "cell_type": "code",
      "execution_count": null,
      "metadata": {
        "colab": {
          "base_uri": "https://localhost:8080/"
        },
        "id": "4vXeCf4Ky6zw",
        "outputId": "c489aac2-88b0-490a-ec58-e81af41f739b"
      },
      "outputs": [
        {
          "output_type": "stream",
          "name": "stdout",
          "text": [
            "True     48607\n",
            "False     1393\n",
            "dtype: int64 \n",
            " True     0.97214\n",
            "False    0.02786\n",
            "dtype: float64\n"
          ]
        }
      ],
      "source": [
        "total_filter = p_lon_filter & p_lat_filter & doff_lon_filter & doff_lat_filter & pass_filter & fare_filter\n",
        "print(total_filter.value_counts(), '\\n', total_filter.value_counts(normalize=True))"
      ]
    },
    {
      "cell_type": "code",
      "execution_count": null,
      "metadata": {
        "id": "yb2vSkOcEVBk"
      },
      "outputs": [],
      "source": [
        "dataset = dataset.drop(total_filter[total_filter==False].index)"
      ]
    },
    {
      "cell_type": "code",
      "execution_count": null,
      "metadata": {
        "colab": {
          "base_uri": "https://localhost:8080/"
        },
        "id": "TshDh_-aRE9a",
        "outputId": "11305b59-310a-4ae0-ba5a-3ebe17195c33"
      },
      "outputs": [
        {
          "output_type": "stream",
          "name": "stdout",
          "text": [
            "<class 'pandas.core.frame.DataFrame'>\n",
            "Int64Index: 48607 entries, 0 to 49999\n",
            "Data columns (total 7 columns):\n",
            " #   Column             Non-Null Count  Dtype         \n",
            "---  ------             --------------  -----         \n",
            " 0   fare_amount        48607 non-null  float32       \n",
            " 1   pickup_datetime    48607 non-null  datetime64[ns]\n",
            " 2   pickup_longitude   48607 non-null  float32       \n",
            " 3   pickup_latitude    48607 non-null  float32       \n",
            " 4   dropoff_longitude  48607 non-null  float32       \n",
            " 5   dropoff_latitude   48607 non-null  float32       \n",
            " 6   passenger_count    48607 non-null  int32         \n",
            "dtypes: datetime64[ns](1), float32(5), int32(1)\n",
            "memory usage: 1.9 MB\n"
          ]
        }
      ],
      "source": [
        "dataset.info()"
      ]
    },
    {
      "cell_type": "markdown",
      "metadata": {
        "id": "2SUjMMI3RT6u"
      },
      "source": [
        "##Feature Engineering\n",
        "\n",
        "Criação de novos dados a partir dos dados contidos no dataset atual"
      ]
    },
    {
      "cell_type": "code",
      "execution_count": null,
      "metadata": {
        "id": "dkvXp2xDRHWe"
      },
      "outputs": [],
      "source": [
        "dataset['hour_of_day'] = dataset['pickup_datetime'].map(lambda date:date.timetuple().tm_hour)\n",
        "dataset['day_of_week'] = dataset['pickup_datetime'].map(lambda date:date.timetuple().tm_wday)\n",
        "dataset['day_of_year'] = dataset['pickup_datetime'].map(lambda date:date.timetuple().tm_yday)\n",
        "dataset['year'] = dataset['pickup_datetime'].map(lambda date:date.timetuple().tm_year)"
      ]
    },
    {
      "cell_type": "code",
      "execution_count": null,
      "metadata": {
        "colab": {
          "base_uri": "https://localhost:8080/",
          "height": 206
        },
        "id": "TyOeYy2ER4gT",
        "outputId": "9ea8ee10-480f-4ef5-a54c-6e4f82765d2a"
      },
      "outputs": [
        {
          "output_type": "execute_result",
          "data": {
            "text/plain": [
              "   fare_amount     pickup_datetime  pickup_longitude  pickup_latitude  \\\n",
              "0          7.3 2011-06-21 16:15:00        -73.991875        40.754436   \n",
              "1          5.7 2012-04-14 14:45:00        -73.984322        40.768509   \n",
              "2         13.3 2011-10-26 16:56:14        -74.001305        40.724426   \n",
              "3         16.5 2012-03-08 22:58:00        -74.008240        40.720638   \n",
              "4         21.0 2012-09-06 21:56:13        -74.005928        40.709415   \n",
              "\n",
              "   dropoff_longitude  dropoff_latitude  passenger_count  hour_of_day  \\\n",
              "0         -73.977226         40.774323                3           16   \n",
              "1         -73.988472         40.755569                1           14   \n",
              "2         -73.971802         40.761963                1           16   \n",
              "3         -73.951424         40.730354                2           22   \n",
              "4         -73.996780         40.736568                2           21   \n",
              "\n",
              "   day_of_week  day_of_year  year  \n",
              "0            1          172  2011  \n",
              "1            5          105  2012  \n",
              "2            2          299  2011  \n",
              "3            3           68  2012  \n",
              "4            3          250  2012  "
            ],
            "text/html": [
              "\n",
              "  <div id=\"df-fdb79beb-66bc-4603-ad9a-bc74c19bfee6\">\n",
              "    <div class=\"colab-df-container\">\n",
              "      <div>\n",
              "<style scoped>\n",
              "    .dataframe tbody tr th:only-of-type {\n",
              "        vertical-align: middle;\n",
              "    }\n",
              "\n",
              "    .dataframe tbody tr th {\n",
              "        vertical-align: top;\n",
              "    }\n",
              "\n",
              "    .dataframe thead th {\n",
              "        text-align: right;\n",
              "    }\n",
              "</style>\n",
              "<table border=\"1\" class=\"dataframe\">\n",
              "  <thead>\n",
              "    <tr style=\"text-align: right;\">\n",
              "      <th></th>\n",
              "      <th>fare_amount</th>\n",
              "      <th>pickup_datetime</th>\n",
              "      <th>pickup_longitude</th>\n",
              "      <th>pickup_latitude</th>\n",
              "      <th>dropoff_longitude</th>\n",
              "      <th>dropoff_latitude</th>\n",
              "      <th>passenger_count</th>\n",
              "      <th>hour_of_day</th>\n",
              "      <th>day_of_week</th>\n",
              "      <th>day_of_year</th>\n",
              "      <th>year</th>\n",
              "    </tr>\n",
              "  </thead>\n",
              "  <tbody>\n",
              "    <tr>\n",
              "      <th>0</th>\n",
              "      <td>7.3</td>\n",
              "      <td>2011-06-21 16:15:00</td>\n",
              "      <td>-73.991875</td>\n",
              "      <td>40.754436</td>\n",
              "      <td>-73.977226</td>\n",
              "      <td>40.774323</td>\n",
              "      <td>3</td>\n",
              "      <td>16</td>\n",
              "      <td>1</td>\n",
              "      <td>172</td>\n",
              "      <td>2011</td>\n",
              "    </tr>\n",
              "    <tr>\n",
              "      <th>1</th>\n",
              "      <td>5.7</td>\n",
              "      <td>2012-04-14 14:45:00</td>\n",
              "      <td>-73.984322</td>\n",
              "      <td>40.768509</td>\n",
              "      <td>-73.988472</td>\n",
              "      <td>40.755569</td>\n",
              "      <td>1</td>\n",
              "      <td>14</td>\n",
              "      <td>5</td>\n",
              "      <td>105</td>\n",
              "      <td>2012</td>\n",
              "    </tr>\n",
              "    <tr>\n",
              "      <th>2</th>\n",
              "      <td>13.3</td>\n",
              "      <td>2011-10-26 16:56:14</td>\n",
              "      <td>-74.001305</td>\n",
              "      <td>40.724426</td>\n",
              "      <td>-73.971802</td>\n",
              "      <td>40.761963</td>\n",
              "      <td>1</td>\n",
              "      <td>16</td>\n",
              "      <td>2</td>\n",
              "      <td>299</td>\n",
              "      <td>2011</td>\n",
              "    </tr>\n",
              "    <tr>\n",
              "      <th>3</th>\n",
              "      <td>16.5</td>\n",
              "      <td>2012-03-08 22:58:00</td>\n",
              "      <td>-74.008240</td>\n",
              "      <td>40.720638</td>\n",
              "      <td>-73.951424</td>\n",
              "      <td>40.730354</td>\n",
              "      <td>2</td>\n",
              "      <td>22</td>\n",
              "      <td>3</td>\n",
              "      <td>68</td>\n",
              "      <td>2012</td>\n",
              "    </tr>\n",
              "    <tr>\n",
              "      <th>4</th>\n",
              "      <td>21.0</td>\n",
              "      <td>2012-09-06 21:56:13</td>\n",
              "      <td>-74.005928</td>\n",
              "      <td>40.709415</td>\n",
              "      <td>-73.996780</td>\n",
              "      <td>40.736568</td>\n",
              "      <td>2</td>\n",
              "      <td>21</td>\n",
              "      <td>3</td>\n",
              "      <td>250</td>\n",
              "      <td>2012</td>\n",
              "    </tr>\n",
              "  </tbody>\n",
              "</table>\n",
              "</div>\n",
              "      <button class=\"colab-df-convert\" onclick=\"convertToInteractive('df-fdb79beb-66bc-4603-ad9a-bc74c19bfee6')\"\n",
              "              title=\"Convert this dataframe to an interactive table.\"\n",
              "              style=\"display:none;\">\n",
              "        \n",
              "  <svg xmlns=\"http://www.w3.org/2000/svg\" height=\"24px\"viewBox=\"0 0 24 24\"\n",
              "       width=\"24px\">\n",
              "    <path d=\"M0 0h24v24H0V0z\" fill=\"none\"/>\n",
              "    <path d=\"M18.56 5.44l.94 2.06.94-2.06 2.06-.94-2.06-.94-.94-2.06-.94 2.06-2.06.94zm-11 1L8.5 8.5l.94-2.06 2.06-.94-2.06-.94L8.5 2.5l-.94 2.06-2.06.94zm10 10l.94 2.06.94-2.06 2.06-.94-2.06-.94-.94-2.06-.94 2.06-2.06.94z\"/><path d=\"M17.41 7.96l-1.37-1.37c-.4-.4-.92-.59-1.43-.59-.52 0-1.04.2-1.43.59L10.3 9.45l-7.72 7.72c-.78.78-.78 2.05 0 2.83L4 21.41c.39.39.9.59 1.41.59.51 0 1.02-.2 1.41-.59l7.78-7.78 2.81-2.81c.8-.78.8-2.07 0-2.86zM5.41 20L4 18.59l7.72-7.72 1.47 1.35L5.41 20z\"/>\n",
              "  </svg>\n",
              "      </button>\n",
              "      \n",
              "  <style>\n",
              "    .colab-df-container {\n",
              "      display:flex;\n",
              "      flex-wrap:wrap;\n",
              "      gap: 12px;\n",
              "    }\n",
              "\n",
              "    .colab-df-convert {\n",
              "      background-color: #E8F0FE;\n",
              "      border: none;\n",
              "      border-radius: 50%;\n",
              "      cursor: pointer;\n",
              "      display: none;\n",
              "      fill: #1967D2;\n",
              "      height: 32px;\n",
              "      padding: 0 0 0 0;\n",
              "      width: 32px;\n",
              "    }\n",
              "\n",
              "    .colab-df-convert:hover {\n",
              "      background-color: #E2EBFA;\n",
              "      box-shadow: 0px 1px 2px rgba(60, 64, 67, 0.3), 0px 1px 3px 1px rgba(60, 64, 67, 0.15);\n",
              "      fill: #174EA6;\n",
              "    }\n",
              "\n",
              "    [theme=dark] .colab-df-convert {\n",
              "      background-color: #3B4455;\n",
              "      fill: #D2E3FC;\n",
              "    }\n",
              "\n",
              "    [theme=dark] .colab-df-convert:hover {\n",
              "      background-color: #434B5C;\n",
              "      box-shadow: 0px 1px 3px 1px rgba(0, 0, 0, 0.15);\n",
              "      filter: drop-shadow(0px 1px 2px rgba(0, 0, 0, 0.3));\n",
              "      fill: #FFFFFF;\n",
              "    }\n",
              "  </style>\n",
              "\n",
              "      <script>\n",
              "        const buttonEl =\n",
              "          document.querySelector('#df-fdb79beb-66bc-4603-ad9a-bc74c19bfee6 button.colab-df-convert');\n",
              "        buttonEl.style.display =\n",
              "          google.colab.kernel.accessAllowed ? 'block' : 'none';\n",
              "\n",
              "        async function convertToInteractive(key) {\n",
              "          const element = document.querySelector('#df-fdb79beb-66bc-4603-ad9a-bc74c19bfee6');\n",
              "          const dataTable =\n",
              "            await google.colab.kernel.invokeFunction('convertToInteractive',\n",
              "                                                     [key], {});\n",
              "          if (!dataTable) return;\n",
              "\n",
              "          const docLinkHtml = 'Like what you see? Visit the ' +\n",
              "            '<a target=\"_blank\" href=https://colab.research.google.com/notebooks/data_table.ipynb>data table notebook</a>'\n",
              "            + ' to learn more about interactive tables.';\n",
              "          element.innerHTML = '';\n",
              "          dataTable['output_type'] = 'display_data';\n",
              "          await google.colab.output.renderOutput(dataTable, element);\n",
              "          const docLink = document.createElement('div');\n",
              "          docLink.innerHTML = docLinkHtml;\n",
              "          element.appendChild(docLink);\n",
              "        }\n",
              "      </script>\n",
              "    </div>\n",
              "  </div>\n",
              "  "
            ]
          },
          "metadata": {},
          "execution_count": 17
        }
      ],
      "source": [
        "dataset.head()"
      ]
    },
    {
      "cell_type": "markdown",
      "metadata": {
        "id": "Vn2m5lPCSFXh"
      },
      "source": [
        "Foi desmembrado da coluna de dados pickup_datetime para separar em horas do dia, dias da semana, dias do ano e ano. Foi realizada essa separação para analisar se os dias da semana, horarios do dia e dias do ano influenciam no preço dos valores. "
      ]
    },
    {
      "cell_type": "markdown",
      "metadata": {
        "id": "05_gEQYsS7uz"
      },
      "source": [
        "Como os dias do ano podem ter relevância no cálculo, é necessário analisar se existe ano bissexto dentro da base de dados e caso tenha, quantas corridas foram realizadas no dia 29 de fevereiro."
      ]
    },
    {
      "cell_type": "code",
      "execution_count": null,
      "metadata": {
        "colab": {
          "base_uri": "https://localhost:8080/"
        },
        "id": "XM5ZQXgnR-3g",
        "outputId": "0922ed65-32b5-4372-9d97-d956b4529c88"
      },
      "outputs": [
        {
          "output_type": "execute_result",
          "data": {
            "text/plain": [
              "22"
            ]
          },
          "metadata": {},
          "execution_count": 18
        }
      ],
      "source": [
        "len(dataset['pickup_datetime'][dataset['pickup_datetime'].dt.strftime('%m-%d')=='02-29'])"
      ]
    },
    {
      "cell_type": "markdown",
      "metadata": {
        "id": "k4IgFNKPUCLQ"
      },
      "source": [
        "Como a quantidade de corridas é um valor baixo, as corridas realizadas nesse dia serão desconsideradas."
      ]
    },
    {
      "cell_type": "code",
      "execution_count": null,
      "metadata": {
        "id": "fhR8psi4T_WT"
      },
      "outputs": [],
      "source": [
        "dataset.drop(dataset['pickup_datetime'][dataset['pickup_datetime'].dt.strftime('%m-%d')=='02-29'].index,inplace=True)"
      ]
    },
    {
      "cell_type": "markdown",
      "metadata": {
        "id": "oye9cP8gUpOb"
      },
      "source": [
        "Como no ano de 2012 foi ano bissexto, será necessário corrigir o valor da coluna day of year naquele ano. pois o dia 1 de março que era o dia 61, passará a ser o dia 60."
      ]
    },
    {
      "cell_type": "code",
      "execution_count": null,
      "metadata": {
        "colab": {
          "base_uri": "https://localhost:8080/"
        },
        "id": "TEeS4fNAUfiS",
        "outputId": "92b832c1-025e-4144-d8b9-394f6a461d9c"
      },
      "outputs": [
        {
          "output_type": "stream",
          "name": "stderr",
          "text": [
            "/usr/local/lib/python3.7/dist-packages/ipykernel_launcher.py:1: SettingWithCopyWarning: \n",
            "A value is trying to be set on a copy of a slice from a DataFrame\n",
            "\n",
            "See the caveats in the documentation: https://pandas.pydata.org/pandas-docs/stable/user_guide/indexing.html#returning-a-view-versus-a-copy\n",
            "  \"\"\"Entry point for launching an IPython kernel.\n"
          ]
        }
      ],
      "source": [
        "dataset['day_of_year'][(dataset['year']==2012) & (dataset['day_of_year']>59)] = dataset['day_of_year'] - 1 "
      ]
    },
    {
      "cell_type": "code",
      "execution_count": null,
      "metadata": {
        "colab": {
          "base_uri": "https://localhost:8080/",
          "height": 298
        },
        "id": "xWqq6udPVmHw",
        "outputId": "4e6e80b2-777a-4f65-885d-a299005e03db"
      },
      "outputs": [
        {
          "output_type": "execute_result",
          "data": {
            "text/plain": [
              "Text(0.5, 1.0, 'Years')"
            ]
          },
          "metadata": {},
          "execution_count": 21
        },
        {
          "output_type": "display_data",
          "data": {
            "text/plain": [
              "<Figure size 1440x288 with 4 Axes>"
            ],
            "image/png": "[encoded data removed]"
          },
          "metadata": {
            "needs_background": "light"
          }
        }
      ],
      "source": [
        "fig, ax = plt.subplots(1,4,figsize=(20,4))\n",
        "data_without_2015 = dataset[dataset['year']< 2015]\n",
        "ax[0].hist(data_without_2015['hour_of_day'], bins=24)\n",
        "ax[0].set_title('Hours of day')\n",
        "ax[1].hist(data_without_2015['day_of_week'], bins=7)\n",
        "ax[1].set_title('Days of week')\n",
        "ax[2].hist(data_without_2015['day_of_year'], bins =365)\n",
        "ax[2].set_title('Days of year')\n",
        "ax[3].hist(data_without_2015['year'], bins=6)\n",
        "ax[3].set_title('Years')"
      ]
    },
    {
      "cell_type": "markdown",
      "metadata": {
        "id": "3aovhAPNeToZ"
      },
      "source": [
        "O ano de 2015 foi retirado para gerar esses graficos pois a base de dados so possui valores até 30 de junho de 2015.\n",
        "\n",
        "Observando os gráficos pode-se notar que o maior fluxo de corridas ocorre entre as 19 e 22 horas, enquanto o horario da madrugada se encontram os menores fluxos.\n",
        "\n",
        "Nos dias da semana ocorre uma gradativa, sendo domingo a menor quantidade de corridas e vai aumentando até a sexta-feira.\n",
        "\n",
        "Em relação aos dias do ano, ocorre uma variação muito grande entre as quantidades de corridas, mas é possível observar que nas festas de fim de ano há uma queda no volume.\n",
        "\n",
        "Em relação aos anos, não ocorreu uma variação significante em relação aos anos."
      ]
    },
    {
      "cell_type": "markdown",
      "metadata": {
        "id": "E-q8Ka_Als2E"
      },
      "source": [
        "###Cálculo das distâncias\n",
        "Serão utilizados os valores das latitudes e longitudes para calcular através da distância Euclidiana e Manhattan."
      ]
    },
    {
      "cell_type": "markdown",
      "metadata": {
        "id": "1pXvwdFOoJ-t"
      },
      "source": [
        "####Distância Euclidiana"
      ]
    },
    {
      "cell_type": "code",
      "execution_count": null,
      "metadata": {
        "id": "UfsWyeImV36R"
      },
      "outputs": [],
      "source": [
        "#Transformação das latitudes e longitudes de graus para radianos\n",
        "lon1, lon2 = np.radians(dataset['pickup_longitude']), np.radians(dataset['dropoff_longitude'])\n",
        "lat1, lat2 = np.radians(dataset['pickup_latitude']), np.radians(dataset['dropoff_latitude'])\n",
        "\n",
        "#subtração das latitudes e longitudes \n",
        "dlon = lon2-lon1\n",
        "dlat = lat2-lat1\n",
        "\n",
        "#Distância Euclideana utilizando a formula de Haversine - (km)\n",
        "a = np.sin(dlat/2)**2 + np.cos(lat1) * np.cos(lat2) * np.sin(dlon/2)**2\n",
        "c = 2 * np.arctan2(np.sqrt(a), np.sqrt(1-a))\n",
        "dataset['euclidean_distance'] = 6373 * c"
      ]
    },
    {
      "cell_type": "markdown",
      "metadata": {
        "id": "9G0nC31Fm0uD"
      },
      "source": [
        "####Distância Manhattan"
      ]
    },
    {
      "cell_type": "code",
      "execution_count": null,
      "metadata": {
        "id": "wLrVt4GOfggd"
      },
      "outputs": [],
      "source": [
        "#Distância Manhattan - (km)\n",
        "a1 = np.sin(dlon/2)**2\n",
        "c1 = 2 * np.arctan2(np.sqrt(a1), np.sqrt(1-a1))\n",
        "a2 = np.sin(dlat/2)**2\n",
        "c2 = 2 * np.arctan2(np.sqrt(a2), np.sqrt(1-a2))\n",
        "dataset['manh_distance'] = 6373 * (c1+c2)"
      ]
    },
    {
      "cell_type": "code",
      "execution_count": null,
      "metadata": {
        "colab": {
          "base_uri": "https://localhost:8080/",
          "height": 357
        },
        "id": "aTzvHq_ao8vM",
        "outputId": "6cfa39fb-a82a-4a43-9049-c98726046a29"
      },
      "outputs": [
        {
          "output_type": "execute_result",
          "data": {
            "text/plain": [
              "   fare_amount     pickup_datetime  pickup_longitude  pickup_latitude  \\\n",
              "0          7.3 2011-06-21 16:15:00        -73.991875        40.754436   \n",
              "1          5.7 2012-04-14 14:45:00        -73.984322        40.768509   \n",
              "2         13.3 2011-10-26 16:56:14        -74.001305        40.724426   \n",
              "3         16.5 2012-03-08 22:58:00        -74.008240        40.720638   \n",
              "4         21.0 2012-09-06 21:56:13        -74.005928        40.709415   \n",
              "\n",
              "   dropoff_longitude  dropoff_latitude  passenger_count  hour_of_day  \\\n",
              "0         -73.977226         40.774323                3           16   \n",
              "1         -73.988472         40.755569                1           14   \n",
              "2         -73.971802         40.761963                1           16   \n",
              "3         -73.951424         40.730354                2           22   \n",
              "4         -73.996780         40.736568                2           21   \n",
              "\n",
              "   day_of_week  day_of_year  year  euclidean_distance  manh_distance  \n",
              "0            1          172  2011            2.532987       3.841528  \n",
              "1            5          104  2012            1.481068       1.900442  \n",
              "2            2          299  2011            4.859137       7.456281  \n",
              "3            3           67  2012            4.910071       7.400820  \n",
              "4            3          249  2012            3.116748       4.037156  "
            ],
            "text/html": [
              "\n",
              "  <div id=\"df-b87c8cf6-20b6-4b8f-bb80-df9341749916\">\n",
              "    <div class=\"colab-df-container\">\n",
              "      <div>\n",
              "<style scoped>\n",
              "    .dataframe tbody tr th:only-of-type {\n",
              "        vertical-align: middle;\n",
              "    }\n",
              "\n",
              "    .dataframe tbody tr th {\n",
              "        vertical-align: top;\n",
              "    }\n",
              "\n",
              "    .dataframe thead th {\n",
              "        text-align: right;\n",
              "    }\n",
              "</style>\n",
              "<table border=\"1\" class=\"dataframe\">\n",
              "  <thead>\n",
              "    <tr style=\"text-align: right;\">\n",
              "      <th></th>\n",
              "      <th>fare_amount</th>\n",
              "      <th>pickup_datetime</th>\n",
              "      <th>pickup_longitude</th>\n",
              "      <th>pickup_latitude</th>\n",
              "      <th>dropoff_longitude</th>\n",
              "      <th>dropoff_latitude</th>\n",
              "      <th>passenger_count</th>\n",
              "      <th>hour_of_day</th>\n",
              "      <th>day_of_week</th>\n",
              "      <th>day_of_year</th>\n",
              "      <th>year</th>\n",
              "      <th>euclidean_distance</th>\n",
              "      <th>manh_distance</th>\n",
              "    </tr>\n",
              "  </thead>\n",
              "  <tbody>\n",
              "    <tr>\n",
              "      <th>0</th>\n",
              "      <td>7.3</td>\n",
              "      <td>2011-06-21 16:15:00</td>\n",
              "      <td>-73.991875</td>\n",
              "      <td>40.754436</td>\n",
              "      <td>-73.977226</td>\n",
              "      <td>40.774323</td>\n",
              "      <td>3</td>\n",
              "      <td>16</td>\n",
              "      <td>1</td>\n",
              "      <td>172</td>\n",
              "      <td>2011</td>\n",
              "      <td>2.532987</td>\n",
              "      <td>3.841528</td>\n",
              "    </tr>\n",
              "    <tr>\n",
              "      <th>1</th>\n",
              "      <td>5.7</td>\n",
              "      <td>2012-04-14 14:45:00</td>\n",
              "      <td>-73.984322</td>\n",
              "      <td>40.768509</td>\n",
              "      <td>-73.988472</td>\n",
              "      <td>40.755569</td>\n",
              "      <td>1</td>\n",
              "      <td>14</td>\n",
              "      <td>5</td>\n",
              "      <td>104</td>\n",
              "      <td>2012</td>\n",
              "      <td>1.481068</td>\n",
              "      <td>1.900442</td>\n",
              "    </tr>\n",
              "    <tr>\n",
              "      <th>2</th>\n",
              "      <td>13.3</td>\n",
              "      <td>2011-10-26 16:56:14</td>\n",
              "      <td>-74.001305</td>\n",
              "      <td>40.724426</td>\n",
              "      <td>-73.971802</td>\n",
              "      <td>40.761963</td>\n",
              "      <td>1</td>\n",
              "      <td>16</td>\n",
              "      <td>2</td>\n",
              "      <td>299</td>\n",
              "      <td>2011</td>\n",
              "      <td>4.859137</td>\n",
              "      <td>7.456281</td>\n",
              "    </tr>\n",
              "    <tr>\n",
              "      <th>3</th>\n",
              "      <td>16.5</td>\n",
              "      <td>2012-03-08 22:58:00</td>\n",
              "      <td>-74.008240</td>\n",
              "      <td>40.720638</td>\n",
              "      <td>-73.951424</td>\n",
              "      <td>40.730354</td>\n",
              "      <td>2</td>\n",
              "      <td>22</td>\n",
              "      <td>3</td>\n",
              "      <td>67</td>\n",
              "      <td>2012</td>\n",
              "      <td>4.910071</td>\n",
              "      <td>7.400820</td>\n",
              "    </tr>\n",
              "    <tr>\n",
              "      <th>4</th>\n",
              "      <td>21.0</td>\n",
              "      <td>2012-09-06 21:56:13</td>\n",
              "      <td>-74.005928</td>\n",
              "      <td>40.709415</td>\n",
              "      <td>-73.996780</td>\n",
              "      <td>40.736568</td>\n",
              "      <td>2</td>\n",
              "      <td>21</td>\n",
              "      <td>3</td>\n",
              "      <td>249</td>\n",
              "      <td>2012</td>\n",
              "      <td>3.116748</td>\n",
              "      <td>4.037156</td>\n",
              "    </tr>\n",
              "  </tbody>\n",
              "</table>\n",
              "</div>\n",
              "      <button class=\"colab-df-convert\" onclick=\"convertToInteractive('df-b87c8cf6-20b6-4b8f-bb80-df9341749916')\"\n",
              "              title=\"Convert this dataframe to an interactive table.\"\n",
              "              style=\"display:none;\">\n",
              "        \n",
              "  <svg xmlns=\"http://www.w3.org/2000/svg\" height=\"24px\"viewBox=\"0 0 24 24\"\n",
              "       width=\"24px\">\n",
              "    <path d=\"M0 0h24v24H0V0z\" fill=\"none\"/>\n",
              "    <path d=\"M18.56 5.44l.94 2.06.94-2.06 2.06-.94-2.06-.94-.94-2.06-.94 2.06-2.06.94zm-11 1L8.5 8.5l.94-2.06 2.06-.94-2.06-.94L8.5 2.5l-.94 2.06-2.06.94zm10 10l.94 2.06.94-2.06 2.06-.94-2.06-.94-.94-2.06-.94 2.06-2.06.94z\"/><path d=\"M17.41 7.96l-1.37-1.37c-.4-.4-.92-.59-1.43-.59-.52 0-1.04.2-1.43.59L10.3 9.45l-7.72 7.72c-.78.78-.78 2.05 0 2.83L4 21.41c.39.39.9.59 1.41.59.51 0 1.02-.2 1.41-.59l7.78-7.78 2.81-2.81c.8-.78.8-2.07 0-2.86zM5.41 20L4 18.59l7.72-7.72 1.47 1.35L5.41 20z\"/>\n",
              "  </svg>\n",
              "      </button>\n",
              "      \n",
              "  <style>\n",
              "    .colab-df-container {\n",
              "      display:flex;\n",
              "      flex-wrap:wrap;\n",
              "      gap: 12px;\n",
              "    }\n",
              "\n",
              "    .colab-df-convert {\n",
              "      background-color: #E8F0FE;\n",
              "      border: none;\n",
              "      border-radius: 50%;\n",
              "      cursor: pointer;\n",
              "      display: none;\n",
              "      fill: #1967D2;\n",
              "      height: 32px;\n",
              "      padding: 0 0 0 0;\n",
              "      width: 32px;\n",
              "    }\n",
              "\n",
              "    .colab-df-convert:hover {\n",
              "      background-color: #E2EBFA;\n",
              "      box-shadow: 0px 1px 2px rgba(60, 64, 67, 0.3), 0px 1px 3px 1px rgba(60, 64, 67, 0.15);\n",
              "      fill: #174EA6;\n",
              "    }\n",
              "\n",
              "    [theme=dark] .colab-df-convert {\n",
              "      background-color: #3B4455;\n",
              "      fill: #D2E3FC;\n",
              "    }\n",
              "\n",
              "    [theme=dark] .colab-df-convert:hover {\n",
              "      background-color: #434B5C;\n",
              "      box-shadow: 0px 1px 3px 1px rgba(0, 0, 0, 0.15);\n",
              "      filter: drop-shadow(0px 1px 2px rgba(0, 0, 0, 0.3));\n",
              "      fill: #FFFFFF;\n",
              "    }\n",
              "  </style>\n",
              "\n",
              "      <script>\n",
              "        const buttonEl =\n",
              "          document.querySelector('#df-b87c8cf6-20b6-4b8f-bb80-df9341749916 button.colab-df-convert');\n",
              "        buttonEl.style.display =\n",
              "          google.colab.kernel.accessAllowed ? 'block' : 'none';\n",
              "\n",
              "        async function convertToInteractive(key) {\n",
              "          const element = document.querySelector('#df-b87c8cf6-20b6-4b8f-bb80-df9341749916');\n",
              "          const dataTable =\n",
              "            await google.colab.kernel.invokeFunction('convertToInteractive',\n",
              "                                                     [key], {});\n",
              "          if (!dataTable) return;\n",
              "\n",
              "          const docLinkHtml = 'Like what you see? Visit the ' +\n",
              "            '<a target=\"_blank\" href=https://colab.research.google.com/notebooks/data_table.ipynb>data table notebook</a>'\n",
              "            + ' to learn more about interactive tables.';\n",
              "          element.innerHTML = '';\n",
              "          dataTable['output_type'] = 'display_data';\n",
              "          await google.colab.output.renderOutput(dataTable, element);\n",
              "          const docLink = document.createElement('div');\n",
              "          docLink.innerHTML = docLinkHtml;\n",
              "          element.appendChild(docLink);\n",
              "        }\n",
              "      </script>\n",
              "    </div>\n",
              "  </div>\n",
              "  "
            ]
          },
          "metadata": {},
          "execution_count": 24
        }
      ],
      "source": [
        "dataset.head()"
      ]
    },
    {
      "cell_type": "markdown",
      "metadata": {
        "id": "hHCshHV4vVX7"
      },
      "source": [
        "Como os dados da coluna pickup_datetime foi separado em outros rótulos, os atributos dela sera apagado da base de dados."
      ]
    },
    {
      "cell_type": "code",
      "execution_count": null,
      "metadata": {
        "colab": {
          "base_uri": "https://localhost:8080/",
          "height": 250
        },
        "id": "I3GALv9VpAr-",
        "outputId": "074c1ac8-a0f3-4fc0-8d2a-6afe5898ab9e"
      },
      "outputs": [
        {
          "output_type": "execute_result",
          "data": {
            "text/plain": [
              "   fare_amount  pickup_longitude  pickup_latitude  dropoff_longitude  \\\n",
              "0          7.3        -73.991875        40.754436         -73.977226   \n",
              "1          5.7        -73.984322        40.768509         -73.988472   \n",
              "2         13.3        -74.001305        40.724426         -73.971802   \n",
              "3         16.5        -74.008240        40.720638         -73.951424   \n",
              "4         21.0        -74.005928        40.709415         -73.996780   \n",
              "\n",
              "   dropoff_latitude  passenger_count  hour_of_day  day_of_week  day_of_year  \\\n",
              "0         40.774323                3           16            1          172   \n",
              "1         40.755569                1           14            5          104   \n",
              "2         40.761963                1           16            2          299   \n",
              "3         40.730354                2           22            3           67   \n",
              "4         40.736568                2           21            3          249   \n",
              "\n",
              "   year  euclidean_distance  manh_distance  \n",
              "0  2011            2.532987       3.841528  \n",
              "1  2012            1.481068       1.900442  \n",
              "2  2011            4.859137       7.456281  \n",
              "3  2012            4.910071       7.400820  \n",
              "4  2012            3.116748       4.037156  "
            ],
            "text/html": [
              "\n",
              "  <div id=\"df-addd70b4-3df9-4968-a23d-8299859ebddf\">\n",
              "    <div class=\"colab-df-container\">\n",
              "      <div>\n",
              "<style scoped>\n",
              "    .dataframe tbody tr th:only-of-type {\n",
              "        vertical-align: middle;\n",
              "    }\n",
              "\n",
              "    .dataframe tbody tr th {\n",
              "        vertical-align: top;\n",
              "    }\n",
              "\n",
              "    .dataframe thead th {\n",
              "        text-align: right;\n",
              "    }\n",
              "</style>\n",
              "<table border=\"1\" class=\"dataframe\">\n",
              "  <thead>\n",
              "    <tr style=\"text-align: right;\">\n",
              "      <th></th>\n",
              "      <th>fare_amount</th>\n",
              "      <th>pickup_longitude</th>\n",
              "      <th>pickup_latitude</th>\n",
              "      <th>dropoff_longitude</th>\n",
              "      <th>dropoff_latitude</th>\n",
              "      <th>passenger_count</th>\n",
              "      <th>hour_of_day</th>\n",
              "      <th>day_of_week</th>\n",
              "      <th>day_of_year</th>\n",
              "      <th>year</th>\n",
              "      <th>euclidean_distance</th>\n",
              "      <th>manh_distance</th>\n",
              "    </tr>\n",
              "  </thead>\n",
              "  <tbody>\n",
              "    <tr>\n",
              "      <th>0</th>\n",
              "      <td>7.3</td>\n",
              "      <td>-73.991875</td>\n",
              "      <td>40.754436</td>\n",
              "      <td>-73.977226</td>\n",
              "      <td>40.774323</td>\n",
              "      <td>3</td>\n",
              "      <td>16</td>\n",
              "      <td>1</td>\n",
              "      <td>172</td>\n",
              "      <td>2011</td>\n",
              "      <td>2.532987</td>\n",
              "      <td>3.841528</td>\n",
              "    </tr>\n",
              "    <tr>\n",
              "      <th>1</th>\n",
              "      <td>5.7</td>\n",
              "      <td>-73.984322</td>\n",
              "      <td>40.768509</td>\n",
              "      <td>-73.988472</td>\n",
              "      <td>40.755569</td>\n",
              "      <td>1</td>\n",
              "      <td>14</td>\n",
              "      <td>5</td>\n",
              "      <td>104</td>\n",
              "      <td>2012</td>\n",
              "      <td>1.481068</td>\n",
              "      <td>1.900442</td>\n",
              "    </tr>\n",
              "    <tr>\n",
              "      <th>2</th>\n",
              "      <td>13.3</td>\n",
              "      <td>-74.001305</td>\n",
              "      <td>40.724426</td>\n",
              "      <td>-73.971802</td>\n",
              "      <td>40.761963</td>\n",
              "      <td>1</td>\n",
              "      <td>16</td>\n",
              "      <td>2</td>\n",
              "      <td>299</td>\n",
              "      <td>2011</td>\n",
              "      <td>4.859137</td>\n",
              "      <td>7.456281</td>\n",
              "    </tr>\n",
              "    <tr>\n",
              "      <th>3</th>\n",
              "      <td>16.5</td>\n",
              "      <td>-74.008240</td>\n",
              "      <td>40.720638</td>\n",
              "      <td>-73.951424</td>\n",
              "      <td>40.730354</td>\n",
              "      <td>2</td>\n",
              "      <td>22</td>\n",
              "      <td>3</td>\n",
              "      <td>67</td>\n",
              "      <td>2012</td>\n",
              "      <td>4.910071</td>\n",
              "      <td>7.400820</td>\n",
              "    </tr>\n",
              "    <tr>\n",
              "      <th>4</th>\n",
              "      <td>21.0</td>\n",
              "      <td>-74.005928</td>\n",
              "      <td>40.709415</td>\n",
              "      <td>-73.996780</td>\n",
              "      <td>40.736568</td>\n",
              "      <td>2</td>\n",
              "      <td>21</td>\n",
              "      <td>3</td>\n",
              "      <td>249</td>\n",
              "      <td>2012</td>\n",
              "      <td>3.116748</td>\n",
              "      <td>4.037156</td>\n",
              "    </tr>\n",
              "  </tbody>\n",
              "</table>\n",
              "</div>\n",
              "      <button class=\"colab-df-convert\" onclick=\"convertToInteractive('df-addd70b4-3df9-4968-a23d-8299859ebddf')\"\n",
              "              title=\"Convert this dataframe to an interactive table.\"\n",
              "              style=\"display:none;\">\n",
              "        \n",
              "  <svg xmlns=\"http://www.w3.org/2000/svg\" height=\"24px\"viewBox=\"0 0 24 24\"\n",
              "       width=\"24px\">\n",
              "    <path d=\"M0 0h24v24H0V0z\" fill=\"none\"/>\n",
              "    <path d=\"M18.56 5.44l.94 2.06.94-2.06 2.06-.94-2.06-.94-.94-2.06-.94 2.06-2.06.94zm-11 1L8.5 8.5l.94-2.06 2.06-.94-2.06-.94L8.5 2.5l-.94 2.06-2.06.94zm10 10l.94 2.06.94-2.06 2.06-.94-2.06-.94-.94-2.06-.94 2.06-2.06.94z\"/><path d=\"M17.41 7.96l-1.37-1.37c-.4-.4-.92-.59-1.43-.59-.52 0-1.04.2-1.43.59L10.3 9.45l-7.72 7.72c-.78.78-.78 2.05 0 2.83L4 21.41c.39.39.9.59 1.41.59.51 0 1.02-.2 1.41-.59l7.78-7.78 2.81-2.81c.8-.78.8-2.07 0-2.86zM5.41 20L4 18.59l7.72-7.72 1.47 1.35L5.41 20z\"/>\n",
              "  </svg>\n",
              "      </button>\n",
              "      \n",
              "  <style>\n",
              "    .colab-df-container {\n",
              "      display:flex;\n",
              "      flex-wrap:wrap;\n",
              "      gap: 12px;\n",
              "    }\n",
              "\n",
              "    .colab-df-convert {\n",
              "      background-color: #E8F0FE;\n",
              "      border: none;\n",
              "      border-radius: 50%;\n",
              "      cursor: pointer;\n",
              "      display: none;\n",
              "      fill: #1967D2;\n",
              "      height: 32px;\n",
              "      padding: 0 0 0 0;\n",
              "      width: 32px;\n",
              "    }\n",
              "\n",
              "    .colab-df-convert:hover {\n",
              "      background-color: #E2EBFA;\n",
              "      box-shadow: 0px 1px 2px rgba(60, 64, 67, 0.3), 0px 1px 3px 1px rgba(60, 64, 67, 0.15);\n",
              "      fill: #174EA6;\n",
              "    }\n",
              "\n",
              "    [theme=dark] .colab-df-convert {\n",
              "      background-color: #3B4455;\n",
              "      fill: #D2E3FC;\n",
              "    }\n",
              "\n",
              "    [theme=dark] .colab-df-convert:hover {\n",
              "      background-color: #434B5C;\n",
              "      box-shadow: 0px 1px 3px 1px rgba(0, 0, 0, 0.15);\n",
              "      filter: drop-shadow(0px 1px 2px rgba(0, 0, 0, 0.3));\n",
              "      fill: #FFFFFF;\n",
              "    }\n",
              "  </style>\n",
              "\n",
              "      <script>\n",
              "        const buttonEl =\n",
              "          document.querySelector('#df-addd70b4-3df9-4968-a23d-8299859ebddf button.colab-df-convert');\n",
              "        buttonEl.style.display =\n",
              "          google.colab.kernel.accessAllowed ? 'block' : 'none';\n",
              "\n",
              "        async function convertToInteractive(key) {\n",
              "          const element = document.querySelector('#df-addd70b4-3df9-4968-a23d-8299859ebddf');\n",
              "          const dataTable =\n",
              "            await google.colab.kernel.invokeFunction('convertToInteractive',\n",
              "                                                     [key], {});\n",
              "          if (!dataTable) return;\n",
              "\n",
              "          const docLinkHtml = 'Like what you see? Visit the ' +\n",
              "            '<a target=\"_blank\" href=https://colab.research.google.com/notebooks/data_table.ipynb>data table notebook</a>'\n",
              "            + ' to learn more about interactive tables.';\n",
              "          element.innerHTML = '';\n",
              "          dataTable['output_type'] = 'display_data';\n",
              "          await google.colab.output.renderOutput(dataTable, element);\n",
              "          const docLink = document.createElement('div');\n",
              "          docLink.innerHTML = docLinkHtml;\n",
              "          element.appendChild(docLink);\n",
              "        }\n",
              "      </script>\n",
              "    </div>\n",
              "  </div>\n",
              "  "
            ]
          },
          "metadata": {},
          "execution_count": 25
        }
      ],
      "source": [
        "dataset.drop('pickup_datetime',axis=1,inplace=True)\n",
        "dataset.head()"
      ]
    },
    {
      "cell_type": "markdown",
      "metadata": {
        "id": "wCDg0HWuwdp4"
      },
      "source": [
        "##Pré-processamento\n",
        "\n",
        "A partir dos tratamentos realizados anteriormente, agora será realizada a divisão e normalização dos dados."
      ]
    },
    {
      "cell_type": "code",
      "execution_count": null,
      "metadata": {
        "id": "u7F4ZNUKwATh"
      },
      "outputs": [],
      "source": [
        "x_train = dataset.drop('fare_amount',axis=1)\n",
        "y_train = dataset['fare_amount']"
      ]
    },
    {
      "cell_type": "code",
      "execution_count": null,
      "metadata": {
        "colab": {
          "base_uri": "https://localhost:8080/"
        },
        "id": "h91s6rJXz97k",
        "outputId": "450d8870-12ba-4471-a4f0-5a23c3d68e73"
      },
      "outputs": [
        {
          "output_type": "execute_result",
          "data": {
            "text/plain": [
              "array([[0.42172366, 0.53244966, 0.46228002, ..., 0.33333333, 0.04529875,\n",
              "        0.05185808],\n",
              "       [0.43080423, 0.54788474, 0.44873409, ..., 0.5       , 0.02648671,\n",
              "        0.0256547 ],\n",
              "       [0.4103867 , 0.49953347, 0.46881404, ..., 0.33333333, 0.08689852,\n",
              "        0.10065484],\n",
              "       ...,\n",
              "       [0.42812592, 0.51009828, 0.4304186 , ..., 0.16666667, 0.02585745,\n",
              "        0.02676745],\n",
              "       [0.4061491 , 0.51863381, 0.45108671, ..., 0.16666667, 0.03871523,\n",
              "        0.04798655],\n",
              "       [0.44256311, 0.5410061 , 0.44934062, ..., 0.66666667, 0.03298116,\n",
              "        0.03982299]])"
            ]
          },
          "metadata": {},
          "execution_count": 27
        }
      ],
      "source": [
        "from sklearn.preprocessing import MinMaxScaler\n",
        "\n",
        "scaler = MinMaxScaler()\n",
        "scaler.fit(x_train)\n",
        "x_train_scaled = scaler.transform(x_train)\n",
        "x_train_scaled"
      ]
    },
    {
      "cell_type": "markdown",
      "metadata": {
        "id": "Gq6mtQom4V4j"
      },
      "source": [
        "# Treinamento dos algoritmos de regressão"
      ]
    },
    {
      "cell_type": "code",
      "execution_count": null,
      "metadata": {
        "id": "HCrat3VCz_Cp"
      },
      "outputs": [],
      "source": [
        "from sklearn.model_selection import cross_val_score\n",
        "cv = 5 \n",
        "scoring = 'neg_mean_squared_error'\n",
        "\n",
        "#Definição da quantidade máxima de processadores para treinar o modelo\n",
        "import multiprocessing\n",
        "n_jobs = multiprocessing.cpu_count() - 1"
      ]
    },
    {
      "cell_type": "markdown",
      "metadata": {
        "id": "YVJI9TFG5BoW"
      },
      "source": [
        "###Linear Regression"
      ]
    },
    {
      "cell_type": "code",
      "execution_count": null,
      "metadata": {
        "colab": {
          "base_uri": "https://localhost:8080/"
        },
        "id": "IduqhIBs4viZ",
        "outputId": "0971aaf0-4c20-43e7-8045-0507c453910a"
      },
      "outputs": [
        {
          "output_type": "execute_result",
          "data": {
            "text/plain": [
              "3.9360282468213863"
            ]
          },
          "metadata": {},
          "execution_count": 29
        }
      ],
      "source": [
        "from sklearn.linear_model import LinearRegression\n",
        "linear = LinearRegression()\n",
        "score_linear = cross_val_score(linear,x_train_scaled,y_train,\n",
        "                               scoring=scoring,cv=cv,n_jobs=n_jobs)\n",
        "mse_linear=np.sqrt(-score_linear.mean())\n",
        "mse_linear"
      ]
    },
    {
      "cell_type": "markdown",
      "metadata": {
        "id": "myJ3HAbx8wNI"
      },
      "source": [
        "###Ridge Regression"
      ]
    },
    {
      "cell_type": "code",
      "execution_count": null,
      "metadata": {
        "colab": {
          "base_uri": "https://localhost:8080/"
        },
        "id": "3vV3njib8NdZ",
        "outputId": "5fb56bb4-1e8b-4fe6-cdda-8168677895fd"
      },
      "outputs": [
        {
          "output_type": "execute_result",
          "data": {
            "text/plain": [
              "3.9414138593262247"
            ]
          },
          "metadata": {},
          "execution_count": 71
        }
      ],
      "source": [
        "from sklearn.linear_model import Ridge\n",
        "\n",
        "ridge = Ridge()\n",
        "score_ridge = cross_val_score(ridge,x_train_scaled,y_train,\n",
        "                              scoring=scoring,cv=cv,n_jobs=n_jobs)\n",
        "mse_ridge = np.sqrt(-score_ridge.mean())\n",
        "mse_ridge"
      ]
    },
    {
      "cell_type": "markdown",
      "metadata": {
        "id": "lZU01SNE98Eo"
      },
      "source": [
        "###Lasso Regression"
      ]
    },
    {
      "cell_type": "code",
      "execution_count": null,
      "metadata": {
        "colab": {
          "base_uri": "https://localhost:8080/"
        },
        "id": "EvLScN9I9f2T",
        "outputId": "a2d946c0-1480-4246-c3b5-2183fee7f2a9"
      },
      "outputs": [
        {
          "output_type": "execute_result",
          "data": {
            "text/plain": [
              "8.835696335152509"
            ]
          },
          "metadata": {},
          "execution_count": 72
        }
      ],
      "source": [
        "from sklearn.linear_model import Lasso\n",
        "\n",
        "lasso = Lasso()\n",
        "score_lasso = cross_val_score(lasso,x_train_scaled,y_train,\n",
        "                              scoring=scoring,cv=cv,n_jobs=n_jobs)\n",
        "mse_lasso = np.sqrt(-score_lasso.mean())\n",
        "mse_lasso"
      ]
    },
    {
      "cell_type": "markdown",
      "metadata": {
        "id": "gu9obJ9h-a6R"
      },
      "source": [
        "### KNN"
      ]
    },
    {
      "cell_type": "code",
      "execution_count": null,
      "metadata": {
        "colab": {
          "base_uri": "https://localhost:8080/"
        },
        "id": "jRJLVgI_-WzH",
        "outputId": "8af70f30-41be-4ed0-dbda-529243f550c6"
      },
      "outputs": [
        {
          "output_type": "execute_result",
          "data": {
            "text/plain": [
              "4.940455534777464"
            ]
          },
          "metadata": {},
          "execution_count": 73
        }
      ],
      "source": [
        "from sklearn.neighbors import KNeighborsRegressor\n",
        "\n",
        "knn = KNeighborsRegressor()\n",
        "score_knn = cross_val_score(knn,x_train_scaled,y_train,\n",
        "                            scoring=scoring,cv=cv,n_jobs=n_jobs)\n",
        "\n",
        "mse_knn = np.sqrt(-score_knn.mean())\n",
        "mse_knn"
      ]
    },
    {
      "cell_type": "markdown",
      "metadata": {
        "id": "QIfZ8GfoAPzy"
      },
      "source": [
        "### Decision Tree Regressor"
      ]
    },
    {
      "cell_type": "code",
      "execution_count": null,
      "metadata": {
        "colab": {
          "base_uri": "https://localhost:8080/"
        },
        "id": "tg4FZ4m__yvf",
        "outputId": "439ac6b1-9eb7-4824-fffd-dc3cffe19da4"
      },
      "outputs": [
        {
          "output_type": "execute_result",
          "data": {
            "text/plain": [
              "4.727205768202781"
            ]
          },
          "metadata": {},
          "execution_count": 74
        }
      ],
      "source": [
        "from sklearn.tree import DecisionTreeRegressor\n",
        "\n",
        "tree = DecisionTreeRegressor()\n",
        "score_tree = cross_val_score(tree,x_train_scaled,y_train,\n",
        "                             scoring=scoring,cv=cv,n_jobs=n_jobs)\n",
        "mse_tree = np.sqrt(-score_tree.mean())\n",
        "mse_tree"
      ]
    },
    {
      "cell_type": "markdown",
      "metadata": {
        "id": "FAWBGvGzA_C8"
      },
      "source": [
        "### Random Forest Regressor"
      ]
    },
    {
      "cell_type": "code",
      "execution_count": null,
      "metadata": {
        "colab": {
          "base_uri": "https://localhost:8080/"
        },
        "id": "T6Fmlwd8AvEi",
        "outputId": "d1ceadbb-c6fb-4c1a-8f38-a2d026ec3d2f"
      },
      "outputs": [
        {
          "output_type": "execute_result",
          "data": {
            "text/plain": [
              "3.328324510948396"
            ]
          },
          "metadata": {},
          "execution_count": 75
        }
      ],
      "source": [
        "from sklearn.ensemble import RandomForestRegressor\n",
        "\n",
        "rf = RandomForestRegressor()\n",
        "score_rf = cross_val_score(rf,x_train_scaled,y_train,\n",
        "                           scoring=scoring,cv=cv,n_jobs=n_jobs)\n",
        "mse_rf = np.sqrt(-score_rf.mean())\n",
        "mse_rf"
      ]
    },
    {
      "cell_type": "markdown",
      "metadata": {
        "id": "mUmY5eVEbAP6"
      },
      "source": [
        "###Gradient Boosting Regressor"
      ]
    },
    {
      "cell_type": "code",
      "execution_count": null,
      "metadata": {
        "colab": {
          "base_uri": "https://localhost:8080/"
        },
        "id": "I_Qg_DYJB_IO",
        "outputId": "ed58b2dc-1005-43f1-aa86-d8826ef03ff5"
      },
      "outputs": [
        {
          "output_type": "execute_result",
          "data": {
            "text/plain": [
              "3.348316085953309"
            ]
          },
          "metadata": {},
          "execution_count": 76
        }
      ],
      "source": [
        "from sklearn.ensemble import GradientBoostingRegressor\n",
        "\n",
        "gb = GradientBoostingRegressor()\n",
        "score_gb = cross_val_score(gb,x_train_scaled,y_train,\n",
        "                           scoring=scoring,cv=cv,n_jobs=n_jobs)\n",
        "mse_gb = np.sqrt(-score_gb.mean())\n",
        "mse_gb"
      ]
    },
    {
      "cell_type": "markdown",
      "metadata": {
        "id": "M-Z0hew8gw4g"
      },
      "source": [
        "## Redes Neurais"
      ]
    },
    {
      "cell_type": "code",
      "execution_count": null,
      "metadata": {
        "id": "dUX1Ld7Ybbdj",
        "colab": {
          "base_uri": "https://localhost:8080/"
        },
        "outputId": "b589f53a-f19b-48b6-d13f-a43ba4fef343"
      },
      "outputs": [
        {
          "output_type": "stream",
          "name": "stderr",
          "text": [
            "/usr/local/lib/python3.7/dist-packages/sklearn/neural_network/_multilayer_perceptron.py:696: ConvergenceWarning: Stochastic Optimizer: Maximum iterations (200) reached and the optimization hasn't converged yet.\n",
            "  ConvergenceWarning,\n",
            "/usr/local/lib/python3.7/dist-packages/sklearn/neural_network/_multilayer_perceptron.py:696: ConvergenceWarning: Stochastic Optimizer: Maximum iterations (200) reached and the optimization hasn't converged yet.\n",
            "  ConvergenceWarning,\n",
            "/usr/local/lib/python3.7/dist-packages/sklearn/neural_network/_multilayer_perceptron.py:699: UserWarning: Training interrupted by user.\n",
            "  warnings.warn(\"Training interrupted by user.\")\n",
            "/usr/local/lib/python3.7/dist-packages/sklearn/neural_network/_multilayer_perceptron.py:696: ConvergenceWarning: Stochastic Optimizer: Maximum iterations (200) reached and the optimization hasn't converged yet.\n",
            "  ConvergenceWarning,\n",
            "/usr/local/lib/python3.7/dist-packages/sklearn/neural_network/_multilayer_perceptron.py:699: UserWarning: Training interrupted by user.\n",
            "  warnings.warn(\"Training interrupted by user.\")\n"
          ]
        },
        {
          "output_type": "execute_result",
          "data": {
            "text/plain": [
              "3.7524045469435277"
            ]
          },
          "metadata": {},
          "execution_count": 77
        }
      ],
      "source": [
        "from sklearn.neural_network import MLPRegressor\n",
        "\n",
        "nn = MLPRegressor()\n",
        "score_nn = cross_val_score(nn,x_train_scaled,y_train,\n",
        "                           scoring=scoring,cv=cv,n_jobs=n_jobs)\n",
        "mse_nn = np.sqrt(-score_nn.mean())\n",
        "mse_nn"
      ]
    },
    {
      "cell_type": "markdown",
      "metadata": {
        "id": "0YtIQeGHunbN"
      },
      "source": [
        "Observando os modelos analisados, foi escolhido o modelo Gradient Boosting Regressor porque gerou um bom resultado e um menor custo computacional do que outros modelos."
      ]
    },
    {
      "cell_type": "code",
      "execution_count": null,
      "metadata": {
        "id": "npP1uqm6h-NB",
        "colab": {
          "base_uri": "https://localhost:8080/"
        },
        "outputId": "4f198ee1-4793-4b89-d0c3-aa5e956d7258"
      },
      "outputs": [
        {
          "output_type": "stream",
          "name": "stdout",
          "text": [
            "{'learning_rate': 0.5, 'loss': 'huber', 'n_estimators': 200}\n"
          ]
        }
      ],
      "source": [
        "from sklearn.model_selection import train_test_split\n",
        "from sklearn.model_selection import GridSearchCV\n",
        "from sklearn.ensemble import GradientBoostingRegressor\n",
        "\n",
        "x_train1,x_test1,y_train1,y_test1 = train_test_split(x_train_scaled,y_train,test_size=0.2,random_state=0)\n",
        "\n",
        "parameters = {'loss':('squared_error', 'absolute_error', 'huber', 'quantile'),\n",
        "              'learning_rate':[0.01,0.05,0.1,0.5],\n",
        "              'n_estimators':[50,100,150,200]}\n",
        "\n",
        "gb = GradientBoostingRegressor()\n",
        "grad_boosting = GridSearchCV(gb,param_grid=parameters,\n",
        "                             cv=cv,n_jobs=n_jobs)\n",
        "\n",
        "grad_boosting.fit(x_train1,y_train1)\n",
        "\n",
        "print(grad_boosting.best_params_)"
      ]
    },
    {
      "cell_type": "code",
      "source": [
        "grad_boosting.best_score_"
      ],
      "metadata": {
        "colab": {
          "base_uri": "https://localhost:8080/"
        },
        "id": "PwlwH-T7Hnfd",
        "outputId": "a7735b49-12ea-4852-bc27-ef86a1ce204d"
      },
      "execution_count": null,
      "outputs": [
        {
          "output_type": "execute_result",
          "data": {
            "text/plain": [
              "0.8640393906395826"
            ]
          },
          "metadata": {},
          "execution_count": 33
        }
      ]
    },
    {
      "cell_type": "markdown",
      "source": [
        "###Treinando o modelo de Gradient Boosting"
      ],
      "metadata": {
        "id": "7rsXFzL_IF02"
      }
    },
    {
      "cell_type": "markdown",
      "source": [
        "Foram utilizados os hiperparametros que apresentaram o melhor resultado após a aplicação do grid search."
      ],
      "metadata": {
        "id": "MSIaOvQ7ZgXb"
      }
    },
    {
      "cell_type": "code",
      "execution_count": null,
      "metadata": {
        "id": "1b4DPnnUCX7N",
        "colab": {
          "base_uri": "https://localhost:8080/"
        },
        "outputId": "47c3ab1b-c701-4dc2-d881-c7d139fa2f97"
      },
      "outputs": [
        {
          "output_type": "execute_result",
          "data": {
            "text/plain": [
              "GradientBoostingRegressor(learning_rate=0.5, loss='huber', n_estimators=200)"
            ]
          },
          "metadata": {},
          "execution_count": 32
        }
      ],
      "source": [
        "from sklearn.ensemble import GradientBoostingRegressor\n",
        "from sklearn.model_selection import train_test_split\n",
        "\n",
        "x_train1,x_test1,y_train1,y_test1 = train_test_split(x_train_scaled,y_train,test_size=0.2,random_state=0)\n",
        "\n",
        "model_gb = GradientBoostingRegressor(loss='huber',n_estimators=200,learning_rate=0.5)\n",
        "model_gb.fit(x_train1,y_train1)"
      ]
    },
    {
      "cell_type": "code",
      "execution_count": null,
      "metadata": {
        "id": "j03H8vZUCZ_F",
        "colab": {
          "base_uri": "https://localhost:8080/"
        },
        "outputId": "18d28086-8813-43fb-cf5f-da0b1c3ffa90"
      },
      "outputs": [
        {
          "output_type": "execute_result",
          "data": {
            "text/plain": [
              "0.8339225674920565"
            ]
          },
          "metadata": {},
          "execution_count": 60
        }
      ],
      "source": [
        "model_gb.score(x_test1,y_test1)"
      ]
    },
    {
      "cell_type": "code",
      "execution_count": null,
      "metadata": {
        "id": "wZ7eaRdiCb4K",
        "colab": {
          "base_uri": "https://localhost:8080/"
        },
        "outputId": "2dace30d-93cc-45bb-b243-dcda599bbb14"
      },
      "outputs": [
        {
          "output_type": "execute_result",
          "data": {
            "text/plain": [
              "array([ 9.03525173,  6.89510959, 11.9364619 , ..., 32.45758429,\n",
              "        6.8711708 ,  9.20690303])"
            ]
          },
          "metadata": {},
          "execution_count": 61
        }
      ],
      "source": [
        "y_pred = model_gb.predict(x_test1)\n",
        "y_pred"
      ]
    },
    {
      "cell_type": "code",
      "source": [
        "from sklearn.metrics import mean_squared_error\n",
        "\n",
        "mse = mean_squared_error(y_test1,y_pred)\n",
        "rmse = np.sqrt(mse)\n",
        "rmse"
      ],
      "metadata": {
        "colab": {
          "base_uri": "https://localhost:8080/"
        },
        "id": "2HToV0ZQJ6Px",
        "outputId": "e49f5344-2a3e-4e15-e40a-2fca6793646d"
      },
      "execution_count": null,
      "outputs": [
        {
          "output_type": "execute_result",
          "data": {
            "text/plain": [
              "3.5591639004306717"
            ]
          },
          "metadata": {},
          "execution_count": 62
        }
      ]
    },
    {
      "cell_type": "markdown",
      "source": [
        "O resultado na base de dados de texte encontrou um valor de rmse igual a 3.559..."
      ],
      "metadata": {
        "id": "DT_3RHSLZukE"
      }
    },
    {
      "cell_type": "markdown",
      "source": [
        "###Feature importances"
      ],
      "metadata": {
        "id": "8gNFUGzxaHOY"
      }
    },
    {
      "cell_type": "markdown",
      "source": [
        "Após a aplicação do modelo, realizou uma análise para verificar quais os atributos mais importantes para desenvolver o modelo."
      ],
      "metadata": {
        "id": "erPJsntQZ3Kg"
      }
    },
    {
      "cell_type": "code",
      "source": [
        "feature_importances = model_gb.feature_importances_\n",
        "feature_importances"
      ],
      "metadata": {
        "colab": {
          "base_uri": "https://localhost:8080/"
        },
        "id": "rDtZyCM0J7k-",
        "outputId": "07590265-ff70-4b07-d7a9-45fe90b9646a"
      },
      "execution_count": null,
      "outputs": [
        {
          "output_type": "execute_result",
          "data": {
            "text/plain": [
              "array([1.45657182e-02, 5.74907409e-03, 1.91167029e-02, 1.63519135e-02,\n",
              "       3.06238662e-04, 1.26456150e-02, 3.20631001e-03, 3.34658491e-03,\n",
              "       3.47863978e-02, 8.75635933e-01, 1.42895118e-02])"
            ]
          },
          "metadata": {},
          "execution_count": 63
        }
      ]
    },
    {
      "cell_type": "code",
      "source": [
        "argsort = np.argsort(feature_importances)\n",
        "argsort"
      ],
      "metadata": {
        "colab": {
          "base_uri": "https://localhost:8080/"
        },
        "id": "zfz28Y9MJ913",
        "outputId": "34a0b461-5ceb-4174-e34c-a98da43213c1"
      },
      "execution_count": null,
      "outputs": [
        {
          "output_type": "execute_result",
          "data": {
            "text/plain": [
              "array([ 4,  6,  7,  1,  5, 10,  0,  3,  2,  8,  9])"
            ]
          },
          "metadata": {},
          "execution_count": 64
        }
      ]
    },
    {
      "cell_type": "code",
      "source": [
        "fi_sorted = feature_importances[argsort]\n",
        "fi_sorted"
      ],
      "metadata": {
        "colab": {
          "base_uri": "https://localhost:8080/"
        },
        "id": "shKc8PzvYpcw",
        "outputId": "9369c194-c1a5-43f7-887a-d50b83d46933"
      },
      "execution_count": null,
      "outputs": [
        {
          "output_type": "execute_result",
          "data": {
            "text/plain": [
              "array([3.06238662e-04, 3.20631001e-03, 3.34658491e-03, 5.74907409e-03,\n",
              "       1.26456150e-02, 1.42895118e-02, 1.45657182e-02, 1.63519135e-02,\n",
              "       1.91167029e-02, 3.47863978e-02, 8.75635933e-01])"
            ]
          },
          "metadata": {},
          "execution_count": 65
        }
      ]
    },
    {
      "cell_type": "code",
      "source": [
        "feature_names_sorted = x_train.columns[argsort]\n",
        "feature_names_sorted"
      ],
      "metadata": {
        "colab": {
          "base_uri": "https://localhost:8080/"
        },
        "id": "R4fgK4LqM5Hn",
        "outputId": "9ebeb104-71b5-42f2-efb6-6096a32fe509"
      },
      "execution_count": null,
      "outputs": [
        {
          "output_type": "execute_result",
          "data": {
            "text/plain": [
              "Index(['passenger_count', 'day_of_week', 'day_of_year', 'pickup_latitude',\n",
              "       'hour_of_day', 'manh_distance', 'pickup_longitude', 'dropoff_latitude',\n",
              "       'dropoff_longitude', 'year', 'euclidean_distance'],\n",
              "      dtype='object')"
            ]
          },
          "metadata": {},
          "execution_count": 66
        }
      ]
    },
    {
      "cell_type": "code",
      "source": [
        "plt.barh(feature_names_sorted,fi_sorted)\n",
        "plt.title('Feature importances')\n",
        "plt.show();"
      ],
      "metadata": {
        "colab": {
          "base_uri": "https://localhost:8080/",
          "height": 281
        },
        "id": "Db0ZFaoYWYn5",
        "outputId": "3c3143dd-9bb1-4b43-97e9-c68d3e080ce9"
      },
      "execution_count": null,
      "outputs": [
        {
          "output_type": "display_data",
          "data": {
            "text/plain": [
              "<Figure size 432x288 with 1 Axes>"
            ],
            "image/png": "[encoded data removed]"
          },
          "metadata": {
            "needs_background": "light"
          }
        }
      ]
    },
    {
      "cell_type": "markdown",
      "source": [
        "Observando o gráfico acima, pode se notar que o atribute que mais se destacou em relação aos demais foi o cálculo da distância euclidiana. Lembrando que esse dado foi gerado a partir dos valores das coordenadas, ou seja, foi uma variável criada a partir da base de dados original."
      ],
      "metadata": {
        "id": "DmbhJQmEaL2O"
      }
    },
    {
      "cell_type": "code",
      "source": [
        "plt.figure(figsize=(15,5))\n",
        "plt.bar(list(range(len(y_test1[::150]))), y_test1.values[::150], alpha = 0.6, color='red',label='Previsão')\n",
        "plt.bar(list(range(len(y_test1[::150]))), y_pred[::150], alpha = 0.6, color='blue',label='Real')\n",
        "plt.legend()\n",
        "plt.show()"
      ],
      "metadata": {
        "colab": {
          "base_uri": "https://localhost:8080/",
          "height": 320
        },
        "id": "TfK_hQzCW1dA",
        "outputId": "7227e3eb-2073-4cab-bf65-8eb83ca8288a"
      },
      "execution_count": null,
      "outputs": [
        {
          "output_type": "display_data",
          "data": {
            "text/plain": [
              "<Figure size 1080x360 with 1 Axes>"
            ],
            "image/png": "[encoded data removed]"
          },
          "metadata": {
            "needs_background": "light"
          }
        }
      ]
    },
    {
      "cell_type": "markdown",
      "source": [
        "O gráfico mostra os valores reais na base de dados de teste(azul) e a previsão(vermelho). Observa-se que em grande parte dos resultados os valores são próximos, porém alguns valores tem uma grande discrepância."
      ],
      "metadata": {
        "id": "dqCtG8Ypgtyi"
      }
    },
    {
      "cell_type": "markdown",
      "source": [
        "O valor RMSE deveria ser abaixo de 5. Com o modelo do Gradient Boosting foi encontrado um valor de 3,43, ou seja, o objetivo foi atingido. \n",
        "\n",
        "Durante a fase de escolha de modelos, foi encontrado valores melhores utilizando outros modelos, porém o custo computacional foi extremamente elevado. \n",
        "\n",
        "Possiveis melhorias podem ser feitas para diminuir ainda mais o valor da raiz quadrada do erro médio, como: \n",
        "\n",
        "- Utilizar toda a base de dados.\n",
        "- Aplicar os modelos com maiores custos computacionais, como as redes neurais.\n",
        "- análisar os valores que deram uma discrepância muito grande do previsto para o real."
      ],
      "metadata": {
        "id": "hSNJXvrkqk5e"
      }
    },
    {
      "cell_type": "markdown",
      "source": [
        "###Salvando o modelo treinado"
      ],
      "metadata": {
        "id": "EicVzBTLnmTh"
      }
    },
    {
      "cell_type": "code",
      "source": [
        "import pickle\n",
        "pickle.dump(model_gb, open('gradient_boosting_finalizado.sav', 'wb'))"
      ],
      "metadata": {
        "id": "XJLBT5XibNcf"
      },
      "execution_count": null,
      "outputs": []
    },
    {
      "cell_type": "markdown",
      "source": [
        "##Preparação do resultado a ser enviado"
      ],
      "metadata": {
        "id": "tr8kVvf3kpqw"
      }
    },
    {
      "cell_type": "code",
      "source": [
        "data_test = pd.read_csv('/content/test (1).csv',\n",
        "                        parse_dates=['pickup_datetime'],\n",
        "                        dtype = {'fare_amount': np.float32,'pickup_latitude':np.float32,\n",
        "                                 'pickup_longitude':np.float32,'dropoff_latitude':np.float32,\n",
        "                                 'dropoff_longitude':np.float32,'passenger_count':np.int32,\n",
        "                                 'key':str})"
      ],
      "metadata": {
        "id": "-drYizz8dWIj"
      },
      "execution_count": null,
      "outputs": []
    },
    {
      "cell_type": "code",
      "source": [
        "data_test.head()"
      ],
      "metadata": {
        "colab": {
          "base_uri": "https://localhost:8080/",
          "height": 206
        },
        "id": "3V6H-D_zdlm0",
        "outputId": "d1363b7b-05a7-4387-b648-03647ec93d8c"
      },
      "execution_count": null,
      "outputs": [
        {
          "output_type": "execute_result",
          "data": {
            "text/plain": [
              "                           key           pickup_datetime  pickup_longitude  \\\n",
              "0  2015-01-27 13:08:24.0000002 2015-01-27 13:08:24+00:00        -73.973320   \n",
              "1  2015-01-27 13:08:24.0000003 2015-01-27 13:08:24+00:00        -73.986862   \n",
              "2  2011-10-08 11:53:44.0000002 2011-10-08 11:53:44+00:00        -73.982521   \n",
              "3  2012-12-01 21:12:12.0000002 2012-12-01 21:12:12+00:00        -73.981163   \n",
              "4  2012-12-01 21:12:12.0000003 2012-12-01 21:12:12+00:00        -73.966049   \n",
              "\n",
              "   pickup_latitude  dropoff_longitude  dropoff_latitude  passenger_count  \n",
              "0        40.763805         -73.981430         40.743835                1  \n",
              "1        40.719383         -73.998886         40.739201                1  \n",
              "2        40.751259         -73.979652         40.746140                1  \n",
              "3        40.767807         -73.990448         40.751637                1  \n",
              "4        40.789776         -73.988564         40.744427                1  "
            ],
            "text/html": [
              "\n",
              "  <div id=\"df-1aa49870-e339-425e-a38d-497bc6625a29\">\n",
              "    <div class=\"colab-df-container\">\n",
              "      <div>\n",
              "<style scoped>\n",
              "    .dataframe tbody tr th:only-of-type {\n",
              "        vertical-align: middle;\n",
              "    }\n",
              "\n",
              "    .dataframe tbody tr th {\n",
              "        vertical-align: top;\n",
              "    }\n",
              "\n",
              "    .dataframe thead th {\n",
              "        text-align: right;\n",
              "    }\n",
              "</style>\n",
              "<table border=\"1\" class=\"dataframe\">\n",
              "  <thead>\n",
              "    <tr style=\"text-align: right;\">\n",
              "      <th></th>\n",
              "      <th>key</th>\n",
              "      <th>pickup_datetime</th>\n",
              "      <th>pickup_longitude</th>\n",
              "      <th>pickup_latitude</th>\n",
              "      <th>dropoff_longitude</th>\n",
              "      <th>dropoff_latitude</th>\n",
              "      <th>passenger_count</th>\n",
              "    </tr>\n",
              "  </thead>\n",
              "  <tbody>\n",
              "    <tr>\n",
              "      <th>0</th>\n",
              "      <td>2015-01-27 13:08:24.0000002</td>\n",
              "      <td>2015-01-27 13:08:24+00:00</td>\n",
              "      <td>-73.973320</td>\n",
              "      <td>40.763805</td>\n",
              "      <td>-73.981430</td>\n",
              "      <td>40.743835</td>\n",
              "      <td>1</td>\n",
              "    </tr>\n",
              "    <tr>\n",
              "      <th>1</th>\n",
              "      <td>2015-01-27 13:08:24.0000003</td>\n",
              "      <td>2015-01-27 13:08:24+00:00</td>\n",
              "      <td>-73.986862</td>\n",
              "      <td>40.719383</td>\n",
              "      <td>-73.998886</td>\n",
              "      <td>40.739201</td>\n",
              "      <td>1</td>\n",
              "    </tr>\n",
              "    <tr>\n",
              "      <th>2</th>\n",
              "      <td>2011-10-08 11:53:44.0000002</td>\n",
              "      <td>2011-10-08 11:53:44+00:00</td>\n",
              "      <td>-73.982521</td>\n",
              "      <td>40.751259</td>\n",
              "      <td>-73.979652</td>\n",
              "      <td>40.746140</td>\n",
              "      <td>1</td>\n",
              "    </tr>\n",
              "    <tr>\n",
              "      <th>3</th>\n",
              "      <td>2012-12-01 21:12:12.0000002</td>\n",
              "      <td>2012-12-01 21:12:12+00:00</td>\n",
              "      <td>-73.981163</td>\n",
              "      <td>40.767807</td>\n",
              "      <td>-73.990448</td>\n",
              "      <td>40.751637</td>\n",
              "      <td>1</td>\n",
              "    </tr>\n",
              "    <tr>\n",
              "      <th>4</th>\n",
              "      <td>2012-12-01 21:12:12.0000003</td>\n",
              "      <td>2012-12-01 21:12:12+00:00</td>\n",
              "      <td>-73.966049</td>\n",
              "      <td>40.789776</td>\n",
              "      <td>-73.988564</td>\n",
              "      <td>40.744427</td>\n",
              "      <td>1</td>\n",
              "    </tr>\n",
              "  </tbody>\n",
              "</table>\n",
              "</div>\n",
              "      <button class=\"colab-df-convert\" onclick=\"convertToInteractive('df-1aa49870-e339-425e-a38d-497bc6625a29')\"\n",
              "              title=\"Convert this dataframe to an interactive table.\"\n",
              "              style=\"display:none;\">\n",
              "        \n",
              "  <svg xmlns=\"http://www.w3.org/2000/svg\" height=\"24px\"viewBox=\"0 0 24 24\"\n",
              "       width=\"24px\">\n",
              "    <path d=\"M0 0h24v24H0V0z\" fill=\"none\"/>\n",
              "    <path d=\"M18.56 5.44l.94 2.06.94-2.06 2.06-.94-2.06-.94-.94-2.06-.94 2.06-2.06.94zm-11 1L8.5 8.5l.94-2.06 2.06-.94-2.06-.94L8.5 2.5l-.94 2.06-2.06.94zm10 10l.94 2.06.94-2.06 2.06-.94-2.06-.94-.94-2.06-.94 2.06-2.06.94z\"/><path d=\"M17.41 7.96l-1.37-1.37c-.4-.4-.92-.59-1.43-.59-.52 0-1.04.2-1.43.59L10.3 9.45l-7.72 7.72c-.78.78-.78 2.05 0 2.83L4 21.41c.39.39.9.59 1.41.59.51 0 1.02-.2 1.41-.59l7.78-7.78 2.81-2.81c.8-.78.8-2.07 0-2.86zM5.41 20L4 18.59l7.72-7.72 1.47 1.35L5.41 20z\"/>\n",
              "  </svg>\n",
              "      </button>\n",
              "      \n",
              "  <style>\n",
              "    .colab-df-container {\n",
              "      display:flex;\n",
              "      flex-wrap:wrap;\n",
              "      gap: 12px;\n",
              "    }\n",
              "\n",
              "    .colab-df-convert {\n",
              "      background-color: #E8F0FE;\n",
              "      border: none;\n",
              "      border-radius: 50%;\n",
              "      cursor: pointer;\n",
              "      display: none;\n",
              "      fill: #1967D2;\n",
              "      height: 32px;\n",
              "      padding: 0 0 0 0;\n",
              "      width: 32px;\n",
              "    }\n",
              "\n",
              "    .colab-df-convert:hover {\n",
              "      background-color: #E2EBFA;\n",
              "      box-shadow: 0px 1px 2px rgba(60, 64, 67, 0.3), 0px 1px 3px 1px rgba(60, 64, 67, 0.15);\n",
              "      fill: #174EA6;\n",
              "    }\n",
              "\n",
              "    [theme=dark] .colab-df-convert {\n",
              "      background-color: #3B4455;\n",
              "      fill: #D2E3FC;\n",
              "    }\n",
              "\n",
              "    [theme=dark] .colab-df-convert:hover {\n",
              "      background-color: #434B5C;\n",
              "      box-shadow: 0px 1px 3px 1px rgba(0, 0, 0, 0.15);\n",
              "      filter: drop-shadow(0px 1px 2px rgba(0, 0, 0, 0.3));\n",
              "      fill: #FFFFFF;\n",
              "    }\n",
              "  </style>\n",
              "\n",
              "      <script>\n",
              "        const buttonEl =\n",
              "          document.querySelector('#df-1aa49870-e339-425e-a38d-497bc6625a29 button.colab-df-convert');\n",
              "        buttonEl.style.display =\n",
              "          google.colab.kernel.accessAllowed ? 'block' : 'none';\n",
              "\n",
              "        async function convertToInteractive(key) {\n",
              "          const element = document.querySelector('#df-1aa49870-e339-425e-a38d-497bc6625a29');\n",
              "          const dataTable =\n",
              "            await google.colab.kernel.invokeFunction('convertToInteractive',\n",
              "                                                     [key], {});\n",
              "          if (!dataTable) return;\n",
              "\n",
              "          const docLinkHtml = 'Like what you see? Visit the ' +\n",
              "            '<a target=\"_blank\" href=https://colab.research.google.com/notebooks/data_table.ipynb>data table notebook</a>'\n",
              "            + ' to learn more about interactive tables.';\n",
              "          element.innerHTML = '';\n",
              "          dataTable['output_type'] = 'display_data';\n",
              "          await google.colab.output.renderOutput(dataTable, element);\n",
              "          const docLink = document.createElement('div');\n",
              "          docLink.innerHTML = docLinkHtml;\n",
              "          element.appendChild(docLink);\n",
              "        }\n",
              "      </script>\n",
              "    </div>\n",
              "  </div>\n",
              "  "
            ]
          },
          "metadata": {},
          "execution_count": 118
        }
      ]
    },
    {
      "cell_type": "code",
      "source": [
        "key = data_test['key']\n",
        "pdt = data_test['pickup_datetime']\n",
        "pdt = pdt.map(lambda date: date.tz_localize(None))\n",
        "data_test.drop(['key'], axis = 1, inplace=True)\n",
        "data_test['pickup_datetime'] = pdt\n",
        "\n",
        "# Novos atributos\n",
        "data_test['hour_of_day'] = data_test['pickup_datetime'].map(lambda date: date.timetuple().tm_hour)\n",
        "data_test['day_of_week'] = data_test['pickup_datetime'].map(lambda date: date.timetuple().tm_wday)\n",
        "data_test['day_of_year'] = data_test['pickup_datetime'].map(lambda date: date.timetuple().tm_yday)\n",
        "data_test['year'] = data_test['pickup_datetime'].map(lambda date: date.timetuple().tm_year)\n",
        "data_test.drop('pickup_datetime', axis = 1, inplace = True)\n",
        "\n",
        "# Distância\n",
        "lon1, lon2 = np.radians(data_test['pickup_longitude']), np.radians(data_test['dropoff_longitude'])\n",
        "lat1, lat2 = np.radians(data_test['pickup_latitude']), np.radians(data_test['dropoff_latitude'])\n",
        "dlon = lon2 - lon1\n",
        "dlat = lat2 - lat1\n",
        "\n",
        "a = np.sin(dlat/2)**2 + np.cos(lat1) * np.cos(lat2) * np.sin(dlon/2)**2\n",
        "c = 2 * np.arctan2(np.sqrt(a), np.sqrt(1-a))\n",
        "data_test['euclidean_distance'] = 6373 * c\n",
        "\n",
        "a1 = np.sin(dlon/2)**2\n",
        "c1 = 2 * np.arctan2(np.sqrt(a1), np.sqrt(1-a1))\n",
        "a2 = np.sin(dlat/2)**2\n",
        "c2 = 2 * np.arctan2(np.sqrt(a2), np.sqrt(1-a2))\n",
        "data_test['manh_distance'] = 6373 * (c1+c2)"
      ],
      "metadata": {
        "id": "Y6j2Y0jDeajM"
      },
      "execution_count": null,
      "outputs": []
    },
    {
      "cell_type": "code",
      "source": [
        "data_test.head()"
      ],
      "metadata": {
        "colab": {
          "base_uri": "https://localhost:8080/",
          "height": 206
        },
        "id": "taUVOJHclWIH",
        "outputId": "90508596-a79f-427b-e405-c7bfb291a633"
      },
      "execution_count": null,
      "outputs": [
        {
          "output_type": "execute_result",
          "data": {
            "text/plain": [
              "   pickup_longitude  pickup_latitude  dropoff_longitude  dropoff_latitude  \\\n",
              "0        -73.973320        40.763805         -73.981430         40.743835   \n",
              "1        -73.986862        40.719383         -73.998886         40.739201   \n",
              "2        -73.982521        40.751259         -73.979652         40.746140   \n",
              "3        -73.981163        40.767807         -73.990448         40.751637   \n",
              "4        -73.966049        40.789776         -73.988564         40.744427   \n",
              "\n",
              "   passenger_count  hour_of_day  day_of_week  day_of_year  year  \\\n",
              "0                1           13            1           27  2015   \n",
              "1                1           13            1           27  2015   \n",
              "2                1           11            5          281  2011   \n",
              "3                1           21            5          336  2012   \n",
              "4                1           21            5          336  2012   \n",
              "\n",
              "   euclidean_distance  manh_distance  \n",
              "0            2.324087       3.123212  \n",
              "1            2.426061       3.541439  \n",
              "2            0.618597       0.888493  \n",
              "3            1.961528       2.831859  \n",
              "4            5.388903       7.548207  "
            ],
            "text/html": [
              "\n",
              "  <div id=\"df-0003cac9-6101-4bf6-881c-7cd0a124fec0\">\n",
              "    <div class=\"colab-df-container\">\n",
              "      <div>\n",
              "<style scoped>\n",
              "    .dataframe tbody tr th:only-of-type {\n",
              "        vertical-align: middle;\n",
              "    }\n",
              "\n",
              "    .dataframe tbody tr th {\n",
              "        vertical-align: top;\n",
              "    }\n",
              "\n",
              "    .dataframe thead th {\n",
              "        text-align: right;\n",
              "    }\n",
              "</style>\n",
              "<table border=\"1\" class=\"dataframe\">\n",
              "  <thead>\n",
              "    <tr style=\"text-align: right;\">\n",
              "      <th></th>\n",
              "      <th>pickup_longitude</th>\n",
              "      <th>pickup_latitude</th>\n",
              "      <th>dropoff_longitude</th>\n",
              "      <th>dropoff_latitude</th>\n",
              "      <th>passenger_count</th>\n",
              "      <th>hour_of_day</th>\n",
              "      <th>day_of_week</th>\n",
              "      <th>day_of_year</th>\n",
              "      <th>year</th>\n",
              "      <th>euclidean_distance</th>\n",
              "      <th>manh_distance</th>\n",
              "    </tr>\n",
              "  </thead>\n",
              "  <tbody>\n",
              "    <tr>\n",
              "      <th>0</th>\n",
              "      <td>-73.973320</td>\n",
              "      <td>40.763805</td>\n",
              "      <td>-73.981430</td>\n",
              "      <td>40.743835</td>\n",
              "      <td>1</td>\n",
              "      <td>13</td>\n",
              "      <td>1</td>\n",
              "      <td>27</td>\n",
              "      <td>2015</td>\n",
              "      <td>2.324087</td>\n",
              "      <td>3.123212</td>\n",
              "    </tr>\n",
              "    <tr>\n",
              "      <th>1</th>\n",
              "      <td>-73.986862</td>\n",
              "      <td>40.719383</td>\n",
              "      <td>-73.998886</td>\n",
              "      <td>40.739201</td>\n",
              "      <td>1</td>\n",
              "      <td>13</td>\n",
              "      <td>1</td>\n",
              "      <td>27</td>\n",
              "      <td>2015</td>\n",
              "      <td>2.426061</td>\n",
              "      <td>3.541439</td>\n",
              "    </tr>\n",
              "    <tr>\n",
              "      <th>2</th>\n",
              "      <td>-73.982521</td>\n",
              "      <td>40.751259</td>\n",
              "      <td>-73.979652</td>\n",
              "      <td>40.746140</td>\n",
              "      <td>1</td>\n",
              "      <td>11</td>\n",
              "      <td>5</td>\n",
              "      <td>281</td>\n",
              "      <td>2011</td>\n",
              "      <td>0.618597</td>\n",
              "      <td>0.888493</td>\n",
              "    </tr>\n",
              "    <tr>\n",
              "      <th>3</th>\n",
              "      <td>-73.981163</td>\n",
              "      <td>40.767807</td>\n",
              "      <td>-73.990448</td>\n",
              "      <td>40.751637</td>\n",
              "      <td>1</td>\n",
              "      <td>21</td>\n",
              "      <td>5</td>\n",
              "      <td>336</td>\n",
              "      <td>2012</td>\n",
              "      <td>1.961528</td>\n",
              "      <td>2.831859</td>\n",
              "    </tr>\n",
              "    <tr>\n",
              "      <th>4</th>\n",
              "      <td>-73.966049</td>\n",
              "      <td>40.789776</td>\n",
              "      <td>-73.988564</td>\n",
              "      <td>40.744427</td>\n",
              "      <td>1</td>\n",
              "      <td>21</td>\n",
              "      <td>5</td>\n",
              "      <td>336</td>\n",
              "      <td>2012</td>\n",
              "      <td>5.388903</td>\n",
              "      <td>7.548207</td>\n",
              "    </tr>\n",
              "  </tbody>\n",
              "</table>\n",
              "</div>\n",
              "      <button class=\"colab-df-convert\" onclick=\"convertToInteractive('df-0003cac9-6101-4bf6-881c-7cd0a124fec0')\"\n",
              "              title=\"Convert this dataframe to an interactive table.\"\n",
              "              style=\"display:none;\">\n",
              "        \n",
              "  <svg xmlns=\"http://www.w3.org/2000/svg\" height=\"24px\"viewBox=\"0 0 24 24\"\n",
              "       width=\"24px\">\n",
              "    <path d=\"M0 0h24v24H0V0z\" fill=\"none\"/>\n",
              "    <path d=\"M18.56 5.44l.94 2.06.94-2.06 2.06-.94-2.06-.94-.94-2.06-.94 2.06-2.06.94zm-11 1L8.5 8.5l.94-2.06 2.06-.94-2.06-.94L8.5 2.5l-.94 2.06-2.06.94zm10 10l.94 2.06.94-2.06 2.06-.94-2.06-.94-.94-2.06-.94 2.06-2.06.94z\"/><path d=\"M17.41 7.96l-1.37-1.37c-.4-.4-.92-.59-1.43-.59-.52 0-1.04.2-1.43.59L10.3 9.45l-7.72 7.72c-.78.78-.78 2.05 0 2.83L4 21.41c.39.39.9.59 1.41.59.51 0 1.02-.2 1.41-.59l7.78-7.78 2.81-2.81c.8-.78.8-2.07 0-2.86zM5.41 20L4 18.59l7.72-7.72 1.47 1.35L5.41 20z\"/>\n",
              "  </svg>\n",
              "      </button>\n",
              "      \n",
              "  <style>\n",
              "    .colab-df-container {\n",
              "      display:flex;\n",
              "      flex-wrap:wrap;\n",
              "      gap: 12px;\n",
              "    }\n",
              "\n",
              "    .colab-df-convert {\n",
              "      background-color: #E8F0FE;\n",
              "      border: none;\n",
              "      border-radius: 50%;\n",
              "      cursor: pointer;\n",
              "      display: none;\n",
              "      fill: #1967D2;\n",
              "      height: 32px;\n",
              "      padding: 0 0 0 0;\n",
              "      width: 32px;\n",
              "    }\n",
              "\n",
              "    .colab-df-convert:hover {\n",
              "      background-color: #E2EBFA;\n",
              "      box-shadow: 0px 1px 2px rgba(60, 64, 67, 0.3), 0px 1px 3px 1px rgba(60, 64, 67, 0.15);\n",
              "      fill: #174EA6;\n",
              "    }\n",
              "\n",
              "    [theme=dark] .colab-df-convert {\n",
              "      background-color: #3B4455;\n",
              "      fill: #D2E3FC;\n",
              "    }\n",
              "\n",
              "    [theme=dark] .colab-df-convert:hover {\n",
              "      background-color: #434B5C;\n",
              "      box-shadow: 0px 1px 3px 1px rgba(0, 0, 0, 0.15);\n",
              "      filter: drop-shadow(0px 1px 2px rgba(0, 0, 0, 0.3));\n",
              "      fill: #FFFFFF;\n",
              "    }\n",
              "  </style>\n",
              "\n",
              "      <script>\n",
              "        const buttonEl =\n",
              "          document.querySelector('#df-0003cac9-6101-4bf6-881c-7cd0a124fec0 button.colab-df-convert');\n",
              "        buttonEl.style.display =\n",
              "          google.colab.kernel.accessAllowed ? 'block' : 'none';\n",
              "\n",
              "        async function convertToInteractive(key) {\n",
              "          const element = document.querySelector('#df-0003cac9-6101-4bf6-881c-7cd0a124fec0');\n",
              "          const dataTable =\n",
              "            await google.colab.kernel.invokeFunction('convertToInteractive',\n",
              "                                                     [key], {});\n",
              "          if (!dataTable) return;\n",
              "\n",
              "          const docLinkHtml = 'Like what you see? Visit the ' +\n",
              "            '<a target=\"_blank\" href=https://colab.research.google.com/notebooks/data_table.ipynb>data table notebook</a>'\n",
              "            + ' to learn more about interactive tables.';\n",
              "          element.innerHTML = '';\n",
              "          dataTable['output_type'] = 'display_data';\n",
              "          await google.colab.output.renderOutput(dataTable, element);\n",
              "          const docLink = document.createElement('div');\n",
              "          docLink.innerHTML = docLinkHtml;\n",
              "          element.appendChild(docLink);\n",
              "        }\n",
              "      </script>\n",
              "    </div>\n",
              "  </div>\n",
              "  "
            ]
          },
          "metadata": {},
          "execution_count": 120
        }
      ]
    },
    {
      "cell_type": "code",
      "source": [
        "X_test = data_test\n",
        "X_test_scaled = scaler.transform(X_test)\n",
        "\n",
        "y_pred_test = model_gb.predict(X_test_scaled)\n",
        "y_pred_test"
      ],
      "metadata": {
        "colab": {
          "base_uri": "https://localhost:8080/"
        },
        "id": "Cf_132TTlZeS",
        "outputId": "7f1ef119-3bd3-4208-d73f-73796ab42add"
      },
      "execution_count": null,
      "outputs": [
        {
          "output_type": "execute_result",
          "data": {
            "text/plain": [
              "array([10.54823594, 10.4358036 ,  4.45894125, ..., 46.92684045,\n",
              "       19.16093693,  6.62911738])"
            ]
          },
          "metadata": {},
          "execution_count": 121
        }
      ]
    },
    {
      "cell_type": "code",
      "source": [
        "submission = pd.DataFrame({'key':key,'fare_amount':y_pred_test})"
      ],
      "metadata": {
        "id": "ihQHl6yllzzr"
      },
      "execution_count": null,
      "outputs": []
    },
    {
      "cell_type": "code",
      "source": [
        "submission.head()\n",
        "print(submission.shape)"
      ],
      "metadata": {
        "colab": {
          "base_uri": "https://localhost:8080/"
        },
        "id": "mqCm1SUal6To",
        "outputId": "929de55f-6613-4a7f-eea8-264e44270183"
      },
      "execution_count": null,
      "outputs": [
        {
          "output_type": "stream",
          "name": "stdout",
          "text": [
            "(9914, 2)\n"
          ]
        }
      ]
    },
    {
      "cell_type": "code",
      "source": [
        "submission.to_csv('submission.csv', index = False)"
      ],
      "metadata": {
        "id": "OInjCKzIl8tg"
      },
      "execution_count": null,
      "outputs": []
    },
    {
      "cell_type": "code",
      "source": [
        ""
      ],
      "metadata": {
        "id": "R0kVUto6mAPo"
      },
      "execution_count": null,
      "outputs": []
    }
  ],
  "metadata": {
    "colab": {
      "collapsed_sections": [],
      "name": "Predicao_taxi_ny",
      "provenance": [],
      "mount_file_id": "1vYHTULG7JhnAGz3PUKw_KWxkgwutxWMJ",
      "authorship_tag": "ABX9TyOrG8frZ4jgwWWqjv6PSYgB",
      "include_colab_link": true
    },
    "kernelspec": {
      "display_name": "Python 3",
      "name": "python3"
    },
    "language_info": {
      "name": "python"
    },
    "accelerator": "GPU"
  },
  "nbformat": 4,
  "nbformat_minor": 0
}